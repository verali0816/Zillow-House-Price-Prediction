{
 "cells": [
  {
   "cell_type": "markdown",
   "metadata": {},
   "source": [
    "## Location Clusters"
   ]
  },
  {
   "cell_type": "markdown",
   "metadata": {},
   "source": [
    "There are large amount of location information of properties in our dataset. However, most of the location variables, such as raw census code and zipcode, are categorical variables and have more than 1000 levels. If we put all the variables into our models, it may lead to computational complexity and bad performance. In addition , we believe location is essential to real estate price, thus we try to generate a new location feature with less levels. Then we used all the location variables to cluster the properties by K-means method. Finally, we yielded 8 clusters as the levels of new locaiton feature."
   ]
  },
  {
   "cell_type": "code",
   "execution_count": 1,
   "metadata": {
    "collapsed": true
   },
   "outputs": [],
   "source": [
    "import pandas as pd\n",
    "import numpy as np\n",
    "from sklearn.cluster import KMeans\n",
    "import cPickle\n",
    "import matplotlib.pyplot as plt\n",
    "%matplotlib inline"
   ]
  },
  {
   "cell_type": "code",
   "execution_count": 4,
   "metadata": {
    "collapsed": false
   },
   "outputs": [
    {
     "data": {
      "text/html": [
       "<div>\n",
       "<table border=\"1\" class=\"dataframe\">\n",
       "  <thead>\n",
       "    <tr style=\"text-align: right;\">\n",
       "      <th></th>\n",
       "      <th>logerror</th>\n",
       "      <th>tran_date</th>\n",
       "      <th>AC_Type</th>\n",
       "      <th>Arch_Type</th>\n",
       "      <th>Basement_Area</th>\n",
       "      <th>Bath_Count</th>\n",
       "      <th>Bed_Count</th>\n",
       "      <th>Frame_Type</th>\n",
       "      <th>Quality_Level</th>\n",
       "      <th>Bed_with_bath_Count</th>\n",
       "      <th>...</th>\n",
       "      <th>Story_Count</th>\n",
       "      <th>Fireplace_YN</th>\n",
       "      <th>Tax_structure_Value</th>\n",
       "      <th>Tax_total_Value</th>\n",
       "      <th>Tax_assess_Year</th>\n",
       "      <th>Taxable_land_Value</th>\n",
       "      <th>Tax_Amount</th>\n",
       "      <th>Tax_delinq_YN</th>\n",
       "      <th>Tax_delinq_Year</th>\n",
       "      <th>Census</th>\n",
       "    </tr>\n",
       "    <tr>\n",
       "      <th>Parcel_ID</th>\n",
       "      <th></th>\n",
       "      <th></th>\n",
       "      <th></th>\n",
       "      <th></th>\n",
       "      <th></th>\n",
       "      <th></th>\n",
       "      <th></th>\n",
       "      <th></th>\n",
       "      <th></th>\n",
       "      <th></th>\n",
       "      <th></th>\n",
       "      <th></th>\n",
       "      <th></th>\n",
       "      <th></th>\n",
       "      <th></th>\n",
       "      <th></th>\n",
       "      <th></th>\n",
       "      <th></th>\n",
       "      <th></th>\n",
       "      <th></th>\n",
       "      <th></th>\n",
       "    </tr>\n",
       "  </thead>\n",
       "  <tbody>\n",
       "    <tr>\n",
       "      <th>11016594</th>\n",
       "      <td>0.0276</td>\n",
       "      <td>2016-01-01</td>\n",
       "      <td>1.0</td>\n",
       "      <td>Unknown</td>\n",
       "      <td>0.0</td>\n",
       "      <td>2.0</td>\n",
       "      <td>3.0</td>\n",
       "      <td>Unknown</td>\n",
       "      <td>4.0</td>\n",
       "      <td>2.0</td>\n",
       "      <td>...</td>\n",
       "      <td>-1.0</td>\n",
       "      <td>False</td>\n",
       "      <td>122754.0</td>\n",
       "      <td>360170.0</td>\n",
       "      <td>2015.0</td>\n",
       "      <td>237416.0</td>\n",
       "      <td>6735.88</td>\n",
       "      <td>N</td>\n",
       "      <td>-10000.0</td>\n",
       "      <td>60371066461000.0</td>\n",
       "    </tr>\n",
       "    <tr>\n",
       "      <th>14366692</th>\n",
       "      <td>-0.1684</td>\n",
       "      <td>2016-01-01</td>\n",
       "      <td>Unknown</td>\n",
       "      <td>Unknown</td>\n",
       "      <td>0.0</td>\n",
       "      <td>3.5</td>\n",
       "      <td>4.0</td>\n",
       "      <td>Unknown</td>\n",
       "      <td>-1.0</td>\n",
       "      <td>3.5</td>\n",
       "      <td>...</td>\n",
       "      <td>-1.0</td>\n",
       "      <td>False</td>\n",
       "      <td>346458.0</td>\n",
       "      <td>585529.0</td>\n",
       "      <td>2015.0</td>\n",
       "      <td>239071.0</td>\n",
       "      <td>10153.02</td>\n",
       "      <td>N</td>\n",
       "      <td>-10000.0</td>\n",
       "      <td>Unknown</td>\n",
       "    </tr>\n",
       "    <tr>\n",
       "      <th>12098116</th>\n",
       "      <td>-0.0040</td>\n",
       "      <td>2016-01-01</td>\n",
       "      <td>1.0</td>\n",
       "      <td>Unknown</td>\n",
       "      <td>0.0</td>\n",
       "      <td>3.0</td>\n",
       "      <td>2.0</td>\n",
       "      <td>Unknown</td>\n",
       "      <td>4.0</td>\n",
       "      <td>3.0</td>\n",
       "      <td>...</td>\n",
       "      <td>-1.0</td>\n",
       "      <td>False</td>\n",
       "      <td>61994.0</td>\n",
       "      <td>119906.0</td>\n",
       "      <td>2015.0</td>\n",
       "      <td>57912.0</td>\n",
       "      <td>11484.48</td>\n",
       "      <td>N</td>\n",
       "      <td>-10000.0</td>\n",
       "      <td>60374638003000.0</td>\n",
       "    </tr>\n",
       "    <tr>\n",
       "      <th>12643413</th>\n",
       "      <td>0.0218</td>\n",
       "      <td>2016-01-02</td>\n",
       "      <td>1.0</td>\n",
       "      <td>Unknown</td>\n",
       "      <td>0.0</td>\n",
       "      <td>2.0</td>\n",
       "      <td>2.0</td>\n",
       "      <td>Unknown</td>\n",
       "      <td>4.0</td>\n",
       "      <td>2.0</td>\n",
       "      <td>...</td>\n",
       "      <td>-1.0</td>\n",
       "      <td>False</td>\n",
       "      <td>171518.0</td>\n",
       "      <td>244880.0</td>\n",
       "      <td>2015.0</td>\n",
       "      <td>73362.0</td>\n",
       "      <td>3048.74</td>\n",
       "      <td>N</td>\n",
       "      <td>-10000.0</td>\n",
       "      <td>60372963002000.0</td>\n",
       "    </tr>\n",
       "    <tr>\n",
       "      <th>14432541</th>\n",
       "      <td>-0.0050</td>\n",
       "      <td>2016-01-02</td>\n",
       "      <td>Unknown</td>\n",
       "      <td>Unknown</td>\n",
       "      <td>0.0</td>\n",
       "      <td>2.5</td>\n",
       "      <td>4.0</td>\n",
       "      <td>Unknown</td>\n",
       "      <td>-1.0</td>\n",
       "      <td>2.5</td>\n",
       "      <td>...</td>\n",
       "      <td>2.0</td>\n",
       "      <td>False</td>\n",
       "      <td>169574.0</td>\n",
       "      <td>434551.0</td>\n",
       "      <td>2015.0</td>\n",
       "      <td>264977.0</td>\n",
       "      <td>5488.96</td>\n",
       "      <td>N</td>\n",
       "      <td>-10000.0</td>\n",
       "      <td>60590423381000.0</td>\n",
       "    </tr>\n",
       "  </tbody>\n",
       "</table>\n",
       "<p>5 rows × 56 columns</p>\n",
       "</div>"
      ],
      "text/plain": [
       "           logerror   tran_date  AC_Type Arch_Type  Basement_Area  Bath_Count  \\\n",
       "Parcel_ID                                                                       \n",
       "11016594     0.0276  2016-01-01      1.0   Unknown            0.0         2.0   \n",
       "14366692    -0.1684  2016-01-01  Unknown   Unknown            0.0         3.5   \n",
       "12098116    -0.0040  2016-01-01      1.0   Unknown            0.0         3.0   \n",
       "12643413     0.0218  2016-01-02      1.0   Unknown            0.0         2.0   \n",
       "14432541    -0.0050  2016-01-02  Unknown   Unknown            0.0         2.5   \n",
       "\n",
       "           Bed_Count Frame_Type  Quality_Level  Bed_with_bath_Count  \\\n",
       "Parcel_ID                                                             \n",
       "11016594         3.0    Unknown            4.0                  2.0   \n",
       "14366692         4.0    Unknown           -1.0                  3.5   \n",
       "12098116         2.0    Unknown            4.0                  3.0   \n",
       "12643413         2.0    Unknown            4.0                  2.0   \n",
       "14432541         4.0    Unknown           -1.0                  2.5   \n",
       "\n",
       "                 ...        Story_Count  Fireplace_YN  Tax_structure_Value  \\\n",
       "Parcel_ID        ...                                                         \n",
       "11016594         ...               -1.0         False             122754.0   \n",
       "14366692         ...               -1.0         False             346458.0   \n",
       "12098116         ...               -1.0         False              61994.0   \n",
       "12643413         ...               -1.0         False             171518.0   \n",
       "14432541         ...                2.0         False             169574.0   \n",
       "\n",
       "           Tax_total_Value  Tax_assess_Year  Taxable_land_Value  Tax_Amount  \\\n",
       "Parcel_ID                                                                     \n",
       "11016594          360170.0           2015.0            237416.0     6735.88   \n",
       "14366692          585529.0           2015.0            239071.0    10153.02   \n",
       "12098116          119906.0           2015.0             57912.0    11484.48   \n",
       "12643413          244880.0           2015.0             73362.0     3048.74   \n",
       "14432541          434551.0           2015.0            264977.0     5488.96   \n",
       "\n",
       "           Tax_delinq_YN  Tax_delinq_Year            Census  \n",
       "Parcel_ID                                                    \n",
       "11016594               N         -10000.0  60371066461000.0  \n",
       "14366692               N         -10000.0           Unknown  \n",
       "12098116               N         -10000.0  60374638003000.0  \n",
       "12643413               N         -10000.0  60372963002000.0  \n",
       "14432541               N         -10000.0  60590423381000.0  \n",
       "\n",
       "[5 rows x 56 columns]"
      ]
     },
     "execution_count": 4,
     "metadata": {},
     "output_type": "execute_result"
    }
   ],
   "source": [
    "train = pd.read_csv('train_V1.csv', index_col = 0)\n",
    "train = train.set_index('Parcel_ID')\n",
    "train.head()"
   ]
  },
  {
   "cell_type": "code",
   "execution_count": 5,
   "metadata": {
    "collapsed": true
   },
   "outputs": [],
   "source": [
    "toobject = [\"FIPS\", \"County\", \"City\", \"Neighborhood\", \"Raw_census\", \"Zipcode\", \"Land_Type\"]\n",
    "\n",
    "for col in toobject:\n",
    "    train[col] = train[col].astype(\"object\")\n",
    "    \n",
    "geo = ['FIPS', 'Latitude', 'Longitude', 'Raw_census', 'City', 'County', 'Neighborhood', 'Zipcode']\n",
    "train_geo = train[geo]\n",
    "X_geo = pd.get_dummies(train_geo)\n",
    "X_tr = np.array(X_geo)"
   ]
  },
  {
   "cell_type": "code",
   "execution_count": 37,
   "metadata": {
    "collapsed": true
   },
   "outputs": [],
   "source": [
    "kmeans = KMeans(n_clusters = 8, random_state = 5)\n",
    "kmeans.fit(X_tr)"
   ]
  },
  {
   "cell_type": "markdown",
   "metadata": {},
   "source": [
    "After runing on server, we got the labels of clusters of our data."
   ]
  },
  {
   "cell_type": "code",
   "execution_count": 6,
   "metadata": {
    "collapsed": false
   },
   "outputs": [],
   "source": [
    "f = open('clu_result.pl','r')\n",
    "ctr, lbs = cPickle.load(f)\n",
    "f.close()"
   ]
  },
  {
   "cell_type": "code",
   "execution_count": 8,
   "metadata": {
    "collapsed": true
   },
   "outputs": [
    {
     "name": "stderr",
     "output_type": "stream",
     "text": [
      "/Users/Rachel/anaconda/lib/python2.7/site-packages/ipykernel/__main__.py:1: SettingWithCopyWarning: \n",
      "A value is trying to be set on a copy of a slice from a DataFrame.\n",
      "Try using .loc[row_indexer,col_indexer] = value instead\n",
      "\n",
      "See the caveats in the documentation: http://pandas.pydata.org/pandas-docs/stable/indexing.html#indexing-view-versus-copy\n",
      "  if __name__ == '__main__':\n"
     ]
    }
   ],
   "source": [
    "train_geo['cluster'] = lbs"
   ]
  },
  {
   "cell_type": "code",
   "execution_count": 22,
   "metadata": {
    "collapsed": false
   },
   "outputs": [],
   "source": [
    "train_geo.to_csv('train_geo.csv')"
   ]
  },
  {
   "cell_type": "code",
   "execution_count": 10,
   "metadata": {
    "collapsed": false
   },
   "outputs": [
    {
     "data": {
      "text/plain": [
       "<matplotlib.text.Text at 0x110db31d0>"
      ]
     },
     "execution_count": 10,
     "metadata": {},
     "output_type": "execute_result"
    },
    {
     "data": {
      "image/png": "[encoded data removed]",
      "text/plain": [
       "<matplotlib.figure.Figure at 0x1100bbdd0>"
      ]
     },
     "metadata": {},
     "output_type": "display_data"
    }
   ],
   "source": [
    "plt.hist(lbs, bins = 8)\n",
    "plt.title('Histogram of Location Clusters')"
   ]
  },
  {
   "cell_type": "code",
   "execution_count": null,
   "metadata": {
    "collapsed": true
   },
   "outputs": [],
   "source": []
  }
 ],
 "metadata": {
  "anaconda-cloud": {},
  "kernelspec": {
   "display_name": "Python [conda root]",
   "language": "python",
   "name": "conda-root-py"
  },
  "language_info": {
   "codemirror_mode": {
    "name": "ipython",
    "version": 2
   },
   "file_extension": ".py",
   "mimetype": "text/x-python",
   "name": "python",
   "nbconvert_exporter": "python",
   "pygments_lexer": "ipython2",
   "version": "2.7.12"
  }
 },
 "nbformat": 4,
 "nbformat_minor": 1
}
