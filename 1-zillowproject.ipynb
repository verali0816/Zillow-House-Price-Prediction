{
 "cells": [
  {
   "cell_type": "markdown",
   "metadata": {},
   "source": [
    "# Predict the error of Zestimates using advanced regression methods\n",
    "\n",
    "## Wenqian Li, Tongke Wu\n",
    "\n",
    "### STA208 Final Project 2017 Spring Quarter"
   ]
  },
  {
   "cell_type": "markdown",
   "metadata": {},
   "source": [
    "## Introduction\n",
    "\n",
    "The Zestimate home value is Zillow's estimated market value for an individual home and is calculated for about 100 million homes nationwide. Buying or selling a home is usually the largest transaction in one's lifetime, so it is critical for Zillow to give consumers a trusted estimate. This will not only increase the popularities of Zillow among consumers but also keep Zillow away from lawsuit for undervaluing their house [Zillow faces lawsuit over Zestimate tool](https://www.washingtonpost.com/realestate/zillow-faces-lawsuit-over-zestimate-tool-that-calculates-a-houses-worth/2017/05/09/b22d0318-3410-11e7-b4ee-434b6d506b37_story.html?utm_term=.4870d57f4a6a). \n",
    "\n",
    "In this project, we will use the dataset released by a featured prediction kaggle [compitition](https://www.kaggle.com/c/zillow-prize-1). Different with common real estate project, this dataset does not reveal the exact saleprice. Instead, it uses \\textit{logerror} as response variable, where $$logerror = log(Zestimate) - log(SalePrice)$$ \n",
    "\n",
    "The dataset provides 57 features, in which 52 are numerical features and 5 are object features. Out of the numerical features, a number of them actually should belong to object/categorical features, such as airconditioningtypeid, architecturalstyletypeid, and etc. In these features, different types do not convey ordered information. \n",
    "\n"
   ]
  },
  {
   "cell_type": "markdown",
   "metadata": {},
   "source": [
    "2985217 of property information is provided, but only 90811 of them have been sold in 2016 and have logerror information. With these 90811 samples, 80% data points are used as training data and the rest 20% samples are used as testing data. We plan to fit different regression models and find a model that gives the minimum MSE for testing data.\n",
    "\n",
    "One challenge of this dataset is that, there are lots of missing values in many variables. We adopted several methods to solve this issue. First, if the missing values in one categorical variable clearly indicate one category, replace it with the guessed category. If not clear, replace it with Unknown. Second, if the missing values in one numerical variable clearly indicate 0, replace it with 0. If not clear, then replace it with -1 and add a new categorical feature indicating whether the former variable is known or unknown with 1 or 0. Third, if a small proportional of values are missing, replace them with the mean. "
   ]
  },
  {
   "cell_type": "markdown",
   "metadata": {},
   "source": [
    "### Feature engineering: cluster for geographical features\n",
    "\n",
    "Another challenge of this dataset is that, there are quite a number of geographical features that are not easy to deal with. For categorical ones, there may be thousands of possible categories for one feature, making is impossible to get dummy variables or run random forest algorithm directly. For numerical ones, the numbers are not really carrying ordered information, such as zipcode, latitude and longitude.\n",
    "\n",
    "To solve this puzzle, we selected several geographical features from dataset, including FIPS, Latitude, Longitude, Raw_census, City, County, Neighbourhood, and Zipcode. We first vectorized these features and performed Kmeans clustering to get 8 clusters for geographical information. Then we dropped the original geographical features and merged the geographical clusters in the training dataset. Overall, we get a trimmed dataset with 100 features after getting dummy variables for the categorical features."
   ]
  },
  {
   "cell_type": "markdown",
   "metadata": {},
   "source": [
    "## Methods\n",
    "\n",
    "For each method, we first tune the parameters to minimize MSE, then fit models with selected parameters. \n",
    "\n",
    "1. Linear Regression\n",
    "\n",
    "2. Ridge Regression\n",
    "\n",
    "3. Lasso Regression\n",
    "\n",
    "4. Linear SVM Regression\n",
    "\n",
    "4. Random Forest Regression\n",
    "\n",
    "5. Adaboost Regression\n",
    "\n",
    "6. Xgboost Regression"
   ]
  },
  {
   "cell_type": "code",
   "execution_count": 1,
   "metadata": {
    "collapsed": true
   },
   "outputs": [],
   "source": [
    "import pandas as pd\n",
    "from collections import Counter\n",
    "import matplotlib.pyplot as plt\n",
    "%matplotlib inline\n",
    "import seaborn as sns\n",
    "sns.set(color_codes=True)\n",
    "import numpy as np"
   ]
  },
  {
   "cell_type": "markdown",
   "metadata": {},
   "source": [
    "properties_2016.csv stores the information of 2985217 homes."
   ]
  },
  {
   "cell_type": "code",
   "execution_count": 4,
   "metadata": {},
   "outputs": [
    {
     "name": "stderr",
     "output_type": "stream",
     "text": [
      "/Users/wenqian/anaconda2/lib/python2.7/site-packages/IPython/core/interactiveshell.py:2717: DtypeWarning: Columns (22,32,34,49,55) have mixed types. Specify dtype option on import or set low_memory=False.\n",
      "  interactivity=interactivity, compiler=compiler, result=result)\n"
     ]
    },
    {
     "data": {
      "text/html": [
       "<div>\n",
       "<style>\n",
       "    .dataframe thead tr:only-child th {\n",
       "        text-align: right;\n",
       "    }\n",
       "\n",
       "    .dataframe thead th {\n",
       "        text-align: left;\n",
       "    }\n",
       "\n",
       "    .dataframe tbody tr th {\n",
       "        vertical-align: top;\n",
       "    }\n",
       "</style>\n",
       "<table border=\"1\" class=\"dataframe\">\n",
       "  <thead>\n",
       "    <tr style=\"text-align: right;\">\n",
       "      <th></th>\n",
       "      <th>parcelid</th>\n",
       "      <th>airconditioningtypeid</th>\n",
       "      <th>architecturalstyletypeid</th>\n",
       "      <th>basementsqft</th>\n",
       "      <th>bathroomcnt</th>\n",
       "      <th>bedroomcnt</th>\n",
       "      <th>buildingclasstypeid</th>\n",
       "      <th>buildingqualitytypeid</th>\n",
       "      <th>calculatedbathnbr</th>\n",
       "      <th>decktypeid</th>\n",
       "      <th>...</th>\n",
       "      <th>yardbuildingsqft26</th>\n",
       "      <th>yearbuilt</th>\n",
       "      <th>numberofstories</th>\n",
       "      <th>structuretaxvaluedollarcnt</th>\n",
       "      <th>taxvaluedollarcnt</th>\n",
       "      <th>assessmentyear</th>\n",
       "      <th>landtaxvaluedollarcnt</th>\n",
       "      <th>taxamount</th>\n",
       "      <th>taxdelinquencyyear</th>\n",
       "      <th>censustractandblock</th>\n",
       "    </tr>\n",
       "  </thead>\n",
       "  <tbody>\n",
       "    <tr>\n",
       "      <th>count</th>\n",
       "      <td>2.985217e+06</td>\n",
       "      <td>811519.000000</td>\n",
       "      <td>6061.000000</td>\n",
       "      <td>1628.000000</td>\n",
       "      <td>2.973755e+06</td>\n",
       "      <td>2.973767e+06</td>\n",
       "      <td>12629.000000</td>\n",
       "      <td>1.938488e+06</td>\n",
       "      <td>2.856305e+06</td>\n",
       "      <td>17096.0</td>\n",
       "      <td>...</td>\n",
       "      <td>2647.000000</td>\n",
       "      <td>2.925289e+06</td>\n",
       "      <td>682069.000000</td>\n",
       "      <td>2.930235e+06</td>\n",
       "      <td>2.942667e+06</td>\n",
       "      <td>2.973778e+06</td>\n",
       "      <td>2.917484e+06</td>\n",
       "      <td>2.953967e+06</td>\n",
       "      <td>56464.000000</td>\n",
       "      <td>2.910091e+06</td>\n",
       "    </tr>\n",
       "    <tr>\n",
       "      <th>mean</th>\n",
       "      <td>1.332586e+07</td>\n",
       "      <td>1.931166</td>\n",
       "      <td>7.202607</td>\n",
       "      <td>646.883292</td>\n",
       "      <td>2.209143e+00</td>\n",
       "      <td>3.088949e+00</td>\n",
       "      <td>3.725948</td>\n",
       "      <td>5.784787e+00</td>\n",
       "      <td>2.299263e+00</td>\n",
       "      <td>66.0</td>\n",
       "      <td>...</td>\n",
       "      <td>278.296562</td>\n",
       "      <td>1.964262e+03</td>\n",
       "      <td>1.401464</td>\n",
       "      <td>1.708836e+05</td>\n",
       "      <td>4.204790e+05</td>\n",
       "      <td>2.014999e+03</td>\n",
       "      <td>2.524780e+05</td>\n",
       "      <td>5.377607e+03</td>\n",
       "      <td>13.892409</td>\n",
       "      <td>6.048431e+13</td>\n",
       "    </tr>\n",
       "    <tr>\n",
       "      <th>std</th>\n",
       "      <td>7.909966e+06</td>\n",
       "      <td>3.148587</td>\n",
       "      <td>2.436290</td>\n",
       "      <td>538.793473</td>\n",
       "      <td>1.077754e+00</td>\n",
       "      <td>1.275859e+00</td>\n",
       "      <td>0.501700</td>\n",
       "      <td>1.805352e+00</td>\n",
       "      <td>1.000736e+00</td>\n",
       "      <td>0.0</td>\n",
       "      <td>...</td>\n",
       "      <td>369.731508</td>\n",
       "      <td>2.344132e+01</td>\n",
       "      <td>0.539076</td>\n",
       "      <td>4.020683e+05</td>\n",
       "      <td>7.263467e+05</td>\n",
       "      <td>3.683161e-02</td>\n",
       "      <td>4.450132e+05</td>\n",
       "      <td>9.183107e+03</td>\n",
       "      <td>2.581006</td>\n",
       "      <td>3.249035e+11</td>\n",
       "    </tr>\n",
       "    <tr>\n",
       "      <th>min</th>\n",
       "      <td>1.071172e+07</td>\n",
       "      <td>1.000000</td>\n",
       "      <td>2.000000</td>\n",
       "      <td>20.000000</td>\n",
       "      <td>0.000000e+00</td>\n",
       "      <td>0.000000e+00</td>\n",
       "      <td>1.000000</td>\n",
       "      <td>1.000000e+00</td>\n",
       "      <td>1.000000e+00</td>\n",
       "      <td>66.0</td>\n",
       "      <td>...</td>\n",
       "      <td>10.000000</td>\n",
       "      <td>1.801000e+03</td>\n",
       "      <td>1.000000</td>\n",
       "      <td>1.000000e+00</td>\n",
       "      <td>1.000000e+00</td>\n",
       "      <td>2.000000e+03</td>\n",
       "      <td>1.000000e+00</td>\n",
       "      <td>1.340000e+00</td>\n",
       "      <td>0.000000</td>\n",
       "      <td>-1.000000e+00</td>\n",
       "    </tr>\n",
       "    <tr>\n",
       "      <th>25%</th>\n",
       "      <td>1.164371e+07</td>\n",
       "      <td>1.000000</td>\n",
       "      <td>7.000000</td>\n",
       "      <td>272.000000</td>\n",
       "      <td>2.000000e+00</td>\n",
       "      <td>2.000000e+00</td>\n",
       "      <td>3.000000</td>\n",
       "      <td>4.000000e+00</td>\n",
       "      <td>2.000000e+00</td>\n",
       "      <td>66.0</td>\n",
       "      <td>...</td>\n",
       "      <td>96.000000</td>\n",
       "      <td>1.950000e+03</td>\n",
       "      <td>1.000000</td>\n",
       "      <td>7.480000e+04</td>\n",
       "      <td>1.796750e+05</td>\n",
       "      <td>2.015000e+03</td>\n",
       "      <td>7.483600e+04</td>\n",
       "      <td>2.461070e+03</td>\n",
       "      <td>14.000000</td>\n",
       "      <td>6.037400e+13</td>\n",
       "    </tr>\n",
       "    <tr>\n",
       "      <th>50%</th>\n",
       "      <td>1.254509e+07</td>\n",
       "      <td>1.000000</td>\n",
       "      <td>7.000000</td>\n",
       "      <td>534.000000</td>\n",
       "      <td>2.000000e+00</td>\n",
       "      <td>3.000000e+00</td>\n",
       "      <td>4.000000</td>\n",
       "      <td>7.000000e+00</td>\n",
       "      <td>2.000000e+00</td>\n",
       "      <td>66.0</td>\n",
       "      <td>...</td>\n",
       "      <td>168.000000</td>\n",
       "      <td>1.963000e+03</td>\n",
       "      <td>1.000000</td>\n",
       "      <td>1.225900e+05</td>\n",
       "      <td>3.060860e+05</td>\n",
       "      <td>2.015000e+03</td>\n",
       "      <td>1.670420e+05</td>\n",
       "      <td>3.991780e+03</td>\n",
       "      <td>14.000000</td>\n",
       "      <td>6.037572e+13</td>\n",
       "    </tr>\n",
       "    <tr>\n",
       "      <th>75%</th>\n",
       "      <td>1.409712e+07</td>\n",
       "      <td>1.000000</td>\n",
       "      <td>7.000000</td>\n",
       "      <td>847.250000</td>\n",
       "      <td>3.000000e+00</td>\n",
       "      <td>4.000000e+00</td>\n",
       "      <td>4.000000</td>\n",
       "      <td>7.000000e+00</td>\n",
       "      <td>3.000000e+00</td>\n",
       "      <td>66.0</td>\n",
       "      <td>...</td>\n",
       "      <td>320.000000</td>\n",
       "      <td>1.981000e+03</td>\n",
       "      <td>2.000000</td>\n",
       "      <td>1.968890e+05</td>\n",
       "      <td>4.880000e+05</td>\n",
       "      <td>2.015000e+03</td>\n",
       "      <td>3.069180e+05</td>\n",
       "      <td>6.201005e+03</td>\n",
       "      <td>15.000000</td>\n",
       "      <td>6.059042e+13</td>\n",
       "    </tr>\n",
       "    <tr>\n",
       "      <th>max</th>\n",
       "      <td>1.696019e+08</td>\n",
       "      <td>13.000000</td>\n",
       "      <td>27.000000</td>\n",
       "      <td>8516.000000</td>\n",
       "      <td>2.000000e+01</td>\n",
       "      <td>2.000000e+01</td>\n",
       "      <td>5.000000</td>\n",
       "      <td>1.200000e+01</td>\n",
       "      <td>2.000000e+01</td>\n",
       "      <td>66.0</td>\n",
       "      <td>...</td>\n",
       "      <td>6141.000000</td>\n",
       "      <td>2.015000e+03</td>\n",
       "      <td>41.000000</td>\n",
       "      <td>2.514860e+08</td>\n",
       "      <td>2.827860e+08</td>\n",
       "      <td>2.016000e+03</td>\n",
       "      <td>9.024622e+07</td>\n",
       "      <td>3.458861e+06</td>\n",
       "      <td>99.000000</td>\n",
       "      <td>4.830301e+14</td>\n",
       "    </tr>\n",
       "  </tbody>\n",
       "</table>\n",
       "<p>8 rows × 53 columns</p>\n",
       "</div>"
      ],
      "text/plain": [
       "           parcelid  airconditioningtypeid  architecturalstyletypeid  \\\n",
       "count  2.985217e+06          811519.000000               6061.000000   \n",
       "mean   1.332586e+07               1.931166                  7.202607   \n",
       "std    7.909966e+06               3.148587                  2.436290   \n",
       "min    1.071172e+07               1.000000                  2.000000   \n",
       "25%    1.164371e+07               1.000000                  7.000000   \n",
       "50%    1.254509e+07               1.000000                  7.000000   \n",
       "75%    1.409712e+07               1.000000                  7.000000   \n",
       "max    1.696019e+08              13.000000                 27.000000   \n",
       "\n",
       "       basementsqft   bathroomcnt    bedroomcnt  buildingclasstypeid  \\\n",
       "count   1628.000000  2.973755e+06  2.973767e+06         12629.000000   \n",
       "mean     646.883292  2.209143e+00  3.088949e+00             3.725948   \n",
       "std      538.793473  1.077754e+00  1.275859e+00             0.501700   \n",
       "min       20.000000  0.000000e+00  0.000000e+00             1.000000   \n",
       "25%      272.000000  2.000000e+00  2.000000e+00             3.000000   \n",
       "50%      534.000000  2.000000e+00  3.000000e+00             4.000000   \n",
       "75%      847.250000  3.000000e+00  4.000000e+00             4.000000   \n",
       "max     8516.000000  2.000000e+01  2.000000e+01             5.000000   \n",
       "\n",
       "       buildingqualitytypeid  calculatedbathnbr  decktypeid  \\\n",
       "count           1.938488e+06       2.856305e+06     17096.0   \n",
       "mean            5.784787e+00       2.299263e+00        66.0   \n",
       "std             1.805352e+00       1.000736e+00         0.0   \n",
       "min             1.000000e+00       1.000000e+00        66.0   \n",
       "25%             4.000000e+00       2.000000e+00        66.0   \n",
       "50%             7.000000e+00       2.000000e+00        66.0   \n",
       "75%             7.000000e+00       3.000000e+00        66.0   \n",
       "max             1.200000e+01       2.000000e+01        66.0   \n",
       "\n",
       "              ...           yardbuildingsqft26     yearbuilt  numberofstories  \\\n",
       "count         ...                  2647.000000  2.925289e+06    682069.000000   \n",
       "mean          ...                   278.296562  1.964262e+03         1.401464   \n",
       "std           ...                   369.731508  2.344132e+01         0.539076   \n",
       "min           ...                    10.000000  1.801000e+03         1.000000   \n",
       "25%           ...                    96.000000  1.950000e+03         1.000000   \n",
       "50%           ...                   168.000000  1.963000e+03         1.000000   \n",
       "75%           ...                   320.000000  1.981000e+03         2.000000   \n",
       "max           ...                  6141.000000  2.015000e+03        41.000000   \n",
       "\n",
       "       structuretaxvaluedollarcnt  taxvaluedollarcnt  assessmentyear  \\\n",
       "count                2.930235e+06       2.942667e+06    2.973778e+06   \n",
       "mean                 1.708836e+05       4.204790e+05    2.014999e+03   \n",
       "std                  4.020683e+05       7.263467e+05    3.683161e-02   \n",
       "min                  1.000000e+00       1.000000e+00    2.000000e+03   \n",
       "25%                  7.480000e+04       1.796750e+05    2.015000e+03   \n",
       "50%                  1.225900e+05       3.060860e+05    2.015000e+03   \n",
       "75%                  1.968890e+05       4.880000e+05    2.015000e+03   \n",
       "max                  2.514860e+08       2.827860e+08    2.016000e+03   \n",
       "\n",
       "       landtaxvaluedollarcnt     taxamount  taxdelinquencyyear  \\\n",
       "count           2.917484e+06  2.953967e+06        56464.000000   \n",
       "mean            2.524780e+05  5.377607e+03           13.892409   \n",
       "std             4.450132e+05  9.183107e+03            2.581006   \n",
       "min             1.000000e+00  1.340000e+00            0.000000   \n",
       "25%             7.483600e+04  2.461070e+03           14.000000   \n",
       "50%             1.670420e+05  3.991780e+03           14.000000   \n",
       "75%             3.069180e+05  6.201005e+03           15.000000   \n",
       "max             9.024622e+07  3.458861e+06           99.000000   \n",
       "\n",
       "       censustractandblock  \n",
       "count         2.910091e+06  \n",
       "mean          6.048431e+13  \n",
       "std           3.249035e+11  \n",
       "min          -1.000000e+00  \n",
       "25%           6.037400e+13  \n",
       "50%           6.037572e+13  \n",
       "75%           6.059042e+13  \n",
       "max           4.830301e+14  \n",
       "\n",
       "[8 rows x 53 columns]"
      ]
     },
     "execution_count": 4,
     "metadata": {},
     "output_type": "execute_result"
    }
   ],
   "source": [
    "properties_2016 = pd.read_csv(\"properties_2016.csv\")\n",
    "properties_2016.describe()\n",
    "#53 columns are numerical"
   ]
  },
  {
   "cell_type": "code",
   "execution_count": 6,
   "metadata": {
    "scrolled": true
   },
   "outputs": [
    {
     "data": {
      "text/plain": [
       "(2985217, 58)"
      ]
     },
     "execution_count": 6,
     "metadata": {},
     "output_type": "execute_result"
    }
   ],
   "source": [
    "properties_2016.shape"
   ]
  },
  {
   "cell_type": "code",
   "execution_count": 8,
   "metadata": {},
   "outputs": [
    {
     "data": {
      "text/plain": [
       "Index([u'parcelid', u'airconditioningtypeid', u'architecturalstyletypeid',\n",
       "       u'basementsqft', u'bathroomcnt', u'bedroomcnt', u'buildingclasstypeid',\n",
       "       u'buildingqualitytypeid', u'calculatedbathnbr', u'decktypeid',\n",
       "       u'finishedfloor1squarefeet', u'calculatedfinishedsquarefeet',\n",
       "       u'finishedsquarefeet12', u'finishedsquarefeet13',\n",
       "       u'finishedsquarefeet15', u'finishedsquarefeet50',\n",
       "       u'finishedsquarefeet6', u'fips', u'fireplacecnt', u'fullbathcnt',\n",
       "       u'garagecarcnt', u'garagetotalsqft', u'heatingorsystemtypeid',\n",
       "       u'latitude', u'longitude', u'lotsizesquarefeet', u'poolcnt',\n",
       "       u'poolsizesum', u'pooltypeid10', u'pooltypeid2', u'pooltypeid7',\n",
       "       u'propertylandusetypeid', u'rawcensustractandblock', u'regionidcity',\n",
       "       u'regionidcounty', u'regionidneighborhood', u'regionidzip', u'roomcnt',\n",
       "       u'storytypeid', u'threequarterbathnbr', u'typeconstructiontypeid',\n",
       "       u'unitcnt', u'yardbuildingsqft17', u'yardbuildingsqft26', u'yearbuilt',\n",
       "       u'numberofstories', u'structuretaxvaluedollarcnt', u'taxvaluedollarcnt',\n",
       "       u'assessmentyear', u'landtaxvaluedollarcnt', u'taxamount',\n",
       "       u'taxdelinquencyyear', u'censustractandblock'],\n",
       "      dtype='object')"
      ]
     },
     "execution_count": 8,
     "metadata": {},
     "output_type": "execute_result"
    }
   ],
   "source": [
    "#numerical variable include\n",
    "num_val = properties_2016.select_dtypes(include = ['float64','int64']).columns\n",
    "num_val #53"
   ]
  },
  {
   "cell_type": "code",
   "execution_count": 9,
   "metadata": {},
   "outputs": [
    {
     "data": {
      "text/plain": [
       "Index([u'hashottuborspa', u'propertycountylandusecode', u'propertyzoningdesc',\n",
       "       u'fireplaceflag', u'taxdelinquencyflag'],\n",
       "      dtype='object')"
      ]
     },
     "execution_count": 9,
     "metadata": {},
     "output_type": "execute_result"
    }
   ],
   "source": [
    "#categorical variable include\n",
    "cat_val = properties_2016.select_dtypes(include = ['object']).columns\n",
    "#len is 5\n",
    "cat_val"
   ]
  },
  {
   "cell_type": "code",
   "execution_count": 11,
   "metadata": {
    "collapsed": true
   },
   "outputs": [],
   "source": [
    "#Read in the train data\n",
    "train_2016 = pd.read_csv(\"train_2016.csv\")"
   ]
  },
  {
   "cell_type": "code",
   "execution_count": 12,
   "metadata": {},
   "outputs": [
    {
     "data": {
      "text/plain": [
       "(90811, 60)"
      ]
     },
     "execution_count": 12,
     "metadata": {},
     "output_type": "execute_result"
    }
   ],
   "source": [
    "#train_prop is the merged dataset\n",
    "train_prop = train_2016.merge(properties_2016, how = \"inner\", on = \"parcelid\")\n",
    "train_prop.shape"
   ]
  },
  {
   "cell_type": "code",
   "execution_count": 13,
   "metadata": {
    "collapsed": true
   },
   "outputs": [],
   "source": [
    "train_prop.to_csv(\"train_prop.csv\")"
   ]
  },
  {
   "cell_type": "markdown",
   "metadata": {},
   "source": [
    "## There are quite a number of missing values in many features."
   ]
  },
  {
   "cell_type": "code",
   "execution_count": 14,
   "metadata": {
    "scrolled": true
   },
   "outputs": [
    {
     "data": {
      "text/plain": [
       "parcelid                            0\n",
       "logerror                            0\n",
       "transactiondate                     0\n",
       "airconditioningtypeid           62030\n",
       "architecturalstyletypeid        90550\n",
       "basementsqft                    90768\n",
       "bathroomcnt                       536\n",
       "bedroomcnt                        536\n",
       "buildingclasstypeid             90795\n",
       "buildingqualitytypeid           33447\n",
       "calculatedbathnbr                1718\n",
       "decktypeid                      90153\n",
       "finishedfloor1squarefeet        83955\n",
       "calculatedfinishedsquarefeet     1197\n",
       "finishedsquarefeet12             5215\n",
       "finishedsquarefeet13            90778\n",
       "finishedsquarefeet15            87247\n",
       "finishedsquarefeet50            83955\n",
       "finishedsquarefeet6             90390\n",
       "fips                              536\n",
       "fireplacecnt                    81204\n",
       "fullbathcnt                      1718\n",
       "garagecarcnt                    60874\n",
       "garagetotalsqft                 60874\n",
       "hashottuborspa                  88446\n",
       "heatingorsystemtypeid           34731\n",
       "latitude                          536\n",
       "longitude                         536\n",
       "lotsizesquarefeet               10686\n",
       "poolcnt                         72910\n",
       "poolsizesum                     89842\n",
       "pooltypeid10                    89650\n",
       "pooltypeid2                     89607\n",
       "pooltypeid7                     74114\n",
       "propertycountylandusecode         537\n",
       "propertylandusetypeid             536\n",
       "propertyzoningdesc              32498\n",
       "rawcensustractandblock            536\n",
       "regionidcity                     2339\n",
       "regionidcounty                    536\n",
       "regionidneighborhood            54799\n",
       "regionidzip                       571\n",
       "roomcnt                           536\n",
       "storytypeid                     90768\n",
       "threequarterbathnbr             78802\n",
       "typeconstructiontypeid          90512\n",
       "unitcnt                         32458\n",
       "yardbuildingsqft17              88165\n",
       "yardbuildingsqft26              90716\n",
       "yearbuilt                        1292\n",
       "numberofstories                 70241\n",
       "fireplaceflag                   90589\n",
       "structuretaxvaluedollarcnt        916\n",
       "taxvaluedollarcnt                 537\n",
       "assessmentyear                    536\n",
       "landtaxvaluedollarcnt             537\n",
       "taxamount                         542\n",
       "taxdelinquencyflag              89028\n",
       "taxdelinquencyyear              89028\n",
       "censustractandblock              1141\n",
       "dtype: int64"
      ]
     },
     "execution_count": 14,
     "metadata": {},
     "output_type": "execute_result"
    }
   ],
   "source": [
    "#There are quite a number of missing values in many features.\n",
    "na_train = train_prop.isnull().sum()\n",
    "na_train"
   ]
  },
  {
   "cell_type": "markdown",
   "metadata": {},
   "source": [
    "### To rename the features for better representation."
   ]
  },
  {
   "cell_type": "code",
   "execution_count": 16,
   "metadata": {
    "collapsed": true
   },
   "outputs": [],
   "source": [
    "colrename = {\n",
    "            \"parcelid\":\"Parcel_ID\",\n",
    "            \"transactiondate\": \"tran_date\", \n",
    "            \"airconditioningtypeid\":\"AC_Type\",\n",
    "            \"architecturalstyletypeid\":\"Arch_Type\",\n",
    "            \"basementsqft\":\"Basement_Area\",\n",
    "            \"bathroomcnt\":\"Bath_Count\",\n",
    "            \"bedroomcnt\":\"Bed_Count\",\n",
    "            \"buildingclasstypeid\":\"Frame_Type\",\n",
    "            \"buildingqualitytypeid\":\"Quality_Level\",\n",
    "            \"calculatedbathnbr\":\"Bed_with_bath_Count\",\n",
    "            \"decktypeid\":\"Deck_Type\",\n",
    "            \"finishedfloor1squarefeet\":\"First_calculated_Area\",\n",
    "            \"calculatedfinishedsquarefeet\":\"Total_living_Area\",\n",
    "            \"finishedsquarefeet12\":\"Finished_living_Area\",\n",
    "            \"finishedsquarefeet13\":\"Perimeter_living_Area\",\n",
    "            \"finishedsquarefeet15\":\"Total_Area\",\n",
    "            \"finishedsquarefeet50\":\"First_Area\",\n",
    "            \"finishedsquarefeet6\":\"Base_total_Area\",\n",
    "            \"fips\":\"FIPS\",\n",
    "            \"fireplacecnt\":\"FirePlace_Count\", \n",
    "            \"fullbathcnt\":\"Bath_full_Count\", \n",
    "            \"garagecarcnt\":\"Garage_Count\", \n",
    "            \"garagetotalsqft\":\"Garage_Area\",\n",
    "            \"hashottuborspa\":\"Tub_Spa_Type\", \n",
    "            \"heatingorsystemtypeid\":\"Heat_Type\", \n",
    "            \"latitude\":\"Latitude\", \n",
    "            \"longitude\":\"Longitude\",\n",
    "            \"lotsizesquarefeet\":\"Lot_Area\", \n",
    "            \"poolcnt\":\"Pool_Count\", \n",
    "            \"poolsizesum\":\"Pool_Area\", \n",
    "            \"pooltypeid10\":\"Spa_Tub\",\n",
    "            \"pooltypeid2\":\"Pool_with_Spa_Tub\", \n",
    "            \"pooltypeid7\":\"Pool_wo_Spa_Tub\", \n",
    "            \"propertycountylandusecode\":\"Land_Code\",\n",
    "            \"propertylandusetypeid\":\"Land_Type\", \n",
    "            \"propertyzoningdesc\":\"Zone_desc\",\n",
    "            \"rawcensustractandblock\":\"Raw_census\", \n",
    "            \"regionidcity\":\"City\", \n",
    "            \"regionidcounty\":\"County\",\n",
    "            \"regionidneighborhood\":\"Neighborhood\", \n",
    "            \"regionidzip\":\"Zipcode\", \n",
    "            \"roomcnt\":\"Room_Count\", \n",
    "            \"storytypeid\":\"Floor_Type\",\n",
    "            \"threequarterbathnbr\":\"Bath_partial_Count\", \n",
    "            \"typeconstructiontypeid\":\"Material_Type\", \n",
    "            \"unitcnt\":\"Unit_Count\",\n",
    "            \"yardbuildingsqft17\":\"Patio_yard_Area\", \n",
    "            \"yardbuildingsqft26\":\"Storage_yard_Area\", \n",
    "            \"yearbuilt\":\"Year\",\n",
    "            \"numberofstories\":\"Story_Count\", \n",
    "            \"fireplaceflag\":\"Fireplace_YN\", \n",
    "            \"structuretaxvaluedollarcnt\":\"Tax_structure_Value\",\n",
    "            \"taxvaluedollarcnt\":\"Tax_total_Value\", \n",
    "            \"assessmentyear\":\"Tax_assess_Year\", \n",
    "            \"landtaxvaluedollarcnt\":\"Taxable_land_Value\",\n",
    "            \"taxamount\":\"Tax_Amount\", \n",
    "            \"taxdelinquencyflag\":\"Tax_delinq_YN\", \n",
    "            \"taxdelinquencyyear\":\"Tax_delinq_Year\",\n",
    "            \"censustractandblock\":\"Census\"}"
   ]
  },
  {
   "cell_type": "code",
   "execution_count": 17,
   "metadata": {
    "collapsed": true
   },
   "outputs": [],
   "source": [
    "train_data = train_prop.rename(columns = colrename)"
   ]
  },
  {
   "cell_type": "code",
   "execution_count": 18,
   "metadata": {
    "collapsed": true
   },
   "outputs": [],
   "source": [
    "train_data = train_data.set_index(\"Parcel_ID\")"
   ]
  },
  {
   "cell_type": "code",
   "execution_count": 19,
   "metadata": {
    "collapsed": true
   },
   "outputs": [],
   "source": [
    "train_data.to_csv(\"renamed_train.csv\")"
   ]
  },
  {
   "cell_type": "code",
   "execution_count": 20,
   "metadata": {},
   "outputs": [
    {
     "data": {
      "text/html": [
       "<div>\n",
       "<style>\n",
       "    .dataframe thead tr:only-child th {\n",
       "        text-align: right;\n",
       "    }\n",
       "\n",
       "    .dataframe thead th {\n",
       "        text-align: left;\n",
       "    }\n",
       "\n",
       "    .dataframe tbody tr th {\n",
       "        vertical-align: top;\n",
       "    }\n",
       "</style>\n",
       "<table border=\"1\" class=\"dataframe\">\n",
       "  <thead>\n",
       "    <tr style=\"text-align: right;\">\n",
       "      <th></th>\n",
       "      <th>logerror</th>\n",
       "      <th>tran_date</th>\n",
       "      <th>AC_Type</th>\n",
       "      <th>Arch_Type</th>\n",
       "      <th>Basement_Area</th>\n",
       "      <th>Bath_Count</th>\n",
       "      <th>Bed_Count</th>\n",
       "      <th>Frame_Type</th>\n",
       "      <th>Quality_Level</th>\n",
       "      <th>Bed_with_bath_Count</th>\n",
       "      <th>...</th>\n",
       "      <th>Story_Count</th>\n",
       "      <th>Fireplace_YN</th>\n",
       "      <th>Tax_structure_Value</th>\n",
       "      <th>Tax_total_Value</th>\n",
       "      <th>Tax_assess_Year</th>\n",
       "      <th>Taxable_land_Value</th>\n",
       "      <th>Tax_Amount</th>\n",
       "      <th>Tax_delinq_YN</th>\n",
       "      <th>Tax_delinq_Year</th>\n",
       "      <th>Census</th>\n",
       "    </tr>\n",
       "    <tr>\n",
       "      <th>Parcel_ID</th>\n",
       "      <th></th>\n",
       "      <th></th>\n",
       "      <th></th>\n",
       "      <th></th>\n",
       "      <th></th>\n",
       "      <th></th>\n",
       "      <th></th>\n",
       "      <th></th>\n",
       "      <th></th>\n",
       "      <th></th>\n",
       "      <th></th>\n",
       "      <th></th>\n",
       "      <th></th>\n",
       "      <th></th>\n",
       "      <th></th>\n",
       "      <th></th>\n",
       "      <th></th>\n",
       "      <th></th>\n",
       "      <th></th>\n",
       "      <th></th>\n",
       "      <th></th>\n",
       "    </tr>\n",
       "  </thead>\n",
       "  <tbody>\n",
       "    <tr>\n",
       "      <th>11016594</th>\n",
       "      <td>0.0276</td>\n",
       "      <td>2016-01-01</td>\n",
       "      <td>1.0</td>\n",
       "      <td>NaN</td>\n",
       "      <td>NaN</td>\n",
       "      <td>2.0</td>\n",
       "      <td>3.0</td>\n",
       "      <td>NaN</td>\n",
       "      <td>4.0</td>\n",
       "      <td>2.0</td>\n",
       "      <td>...</td>\n",
       "      <td>NaN</td>\n",
       "      <td>NaN</td>\n",
       "      <td>122754.0</td>\n",
       "      <td>360170.0</td>\n",
       "      <td>2015.0</td>\n",
       "      <td>237416.0</td>\n",
       "      <td>6735.88</td>\n",
       "      <td>NaN</td>\n",
       "      <td>NaN</td>\n",
       "      <td>6.037107e+13</td>\n",
       "    </tr>\n",
       "    <tr>\n",
       "      <th>14366692</th>\n",
       "      <td>-0.1684</td>\n",
       "      <td>2016-01-01</td>\n",
       "      <td>NaN</td>\n",
       "      <td>NaN</td>\n",
       "      <td>NaN</td>\n",
       "      <td>3.5</td>\n",
       "      <td>4.0</td>\n",
       "      <td>NaN</td>\n",
       "      <td>NaN</td>\n",
       "      <td>3.5</td>\n",
       "      <td>...</td>\n",
       "      <td>NaN</td>\n",
       "      <td>NaN</td>\n",
       "      <td>346458.0</td>\n",
       "      <td>585529.0</td>\n",
       "      <td>2015.0</td>\n",
       "      <td>239071.0</td>\n",
       "      <td>10153.02</td>\n",
       "      <td>NaN</td>\n",
       "      <td>NaN</td>\n",
       "      <td>NaN</td>\n",
       "    </tr>\n",
       "    <tr>\n",
       "      <th>12098116</th>\n",
       "      <td>-0.0040</td>\n",
       "      <td>2016-01-01</td>\n",
       "      <td>1.0</td>\n",
       "      <td>NaN</td>\n",
       "      <td>NaN</td>\n",
       "      <td>3.0</td>\n",
       "      <td>2.0</td>\n",
       "      <td>NaN</td>\n",
       "      <td>4.0</td>\n",
       "      <td>3.0</td>\n",
       "      <td>...</td>\n",
       "      <td>NaN</td>\n",
       "      <td>NaN</td>\n",
       "      <td>61994.0</td>\n",
       "      <td>119906.0</td>\n",
       "      <td>2015.0</td>\n",
       "      <td>57912.0</td>\n",
       "      <td>11484.48</td>\n",
       "      <td>NaN</td>\n",
       "      <td>NaN</td>\n",
       "      <td>6.037464e+13</td>\n",
       "    </tr>\n",
       "    <tr>\n",
       "      <th>12643413</th>\n",
       "      <td>0.0218</td>\n",
       "      <td>2016-01-02</td>\n",
       "      <td>1.0</td>\n",
       "      <td>NaN</td>\n",
       "      <td>NaN</td>\n",
       "      <td>2.0</td>\n",
       "      <td>2.0</td>\n",
       "      <td>NaN</td>\n",
       "      <td>4.0</td>\n",
       "      <td>2.0</td>\n",
       "      <td>...</td>\n",
       "      <td>NaN</td>\n",
       "      <td>NaN</td>\n",
       "      <td>171518.0</td>\n",
       "      <td>244880.0</td>\n",
       "      <td>2015.0</td>\n",
       "      <td>73362.0</td>\n",
       "      <td>3048.74</td>\n",
       "      <td>NaN</td>\n",
       "      <td>NaN</td>\n",
       "      <td>6.037296e+13</td>\n",
       "    </tr>\n",
       "    <tr>\n",
       "      <th>14432541</th>\n",
       "      <td>-0.0050</td>\n",
       "      <td>2016-01-02</td>\n",
       "      <td>NaN</td>\n",
       "      <td>NaN</td>\n",
       "      <td>NaN</td>\n",
       "      <td>2.5</td>\n",
       "      <td>4.0</td>\n",
       "      <td>NaN</td>\n",
       "      <td>NaN</td>\n",
       "      <td>2.5</td>\n",
       "      <td>...</td>\n",
       "      <td>2.0</td>\n",
       "      <td>NaN</td>\n",
       "      <td>169574.0</td>\n",
       "      <td>434551.0</td>\n",
       "      <td>2015.0</td>\n",
       "      <td>264977.0</td>\n",
       "      <td>5488.96</td>\n",
       "      <td>NaN</td>\n",
       "      <td>NaN</td>\n",
       "      <td>6.059042e+13</td>\n",
       "    </tr>\n",
       "  </tbody>\n",
       "</table>\n",
       "<p>5 rows × 59 columns</p>\n",
       "</div>"
      ],
      "text/plain": [
       "           logerror   tran_date  AC_Type  Arch_Type  Basement_Area  \\\n",
       "Parcel_ID                                                            \n",
       "11016594     0.0276  2016-01-01      1.0        NaN            NaN   \n",
       "14366692    -0.1684  2016-01-01      NaN        NaN            NaN   \n",
       "12098116    -0.0040  2016-01-01      1.0        NaN            NaN   \n",
       "12643413     0.0218  2016-01-02      1.0        NaN            NaN   \n",
       "14432541    -0.0050  2016-01-02      NaN        NaN            NaN   \n",
       "\n",
       "           Bath_Count  Bed_Count  Frame_Type  Quality_Level  \\\n",
       "Parcel_ID                                                     \n",
       "11016594          2.0        3.0         NaN            4.0   \n",
       "14366692          3.5        4.0         NaN            NaN   \n",
       "12098116          3.0        2.0         NaN            4.0   \n",
       "12643413          2.0        2.0         NaN            4.0   \n",
       "14432541          2.5        4.0         NaN            NaN   \n",
       "\n",
       "           Bed_with_bath_Count      ...       Story_Count  Fireplace_YN  \\\n",
       "Parcel_ID                           ...                                   \n",
       "11016594                   2.0      ...               NaN           NaN   \n",
       "14366692                   3.5      ...               NaN           NaN   \n",
       "12098116                   3.0      ...               NaN           NaN   \n",
       "12643413                   2.0      ...               NaN           NaN   \n",
       "14432541                   2.5      ...               2.0           NaN   \n",
       "\n",
       "           Tax_structure_Value  Tax_total_Value  Tax_assess_Year  \\\n",
       "Parcel_ID                                                          \n",
       "11016594              122754.0         360170.0           2015.0   \n",
       "14366692              346458.0         585529.0           2015.0   \n",
       "12098116               61994.0         119906.0           2015.0   \n",
       "12643413              171518.0         244880.0           2015.0   \n",
       "14432541              169574.0         434551.0           2015.0   \n",
       "\n",
       "           Taxable_land_Value  Tax_Amount  Tax_delinq_YN  Tax_delinq_Year  \\\n",
       "Parcel_ID                                                                   \n",
       "11016594             237416.0     6735.88            NaN              NaN   \n",
       "14366692             239071.0    10153.02            NaN              NaN   \n",
       "12098116              57912.0    11484.48            NaN              NaN   \n",
       "12643413              73362.0     3048.74            NaN              NaN   \n",
       "14432541             264977.0     5488.96            NaN              NaN   \n",
       "\n",
       "                 Census  \n",
       "Parcel_ID                \n",
       "11016594   6.037107e+13  \n",
       "14366692            NaN  \n",
       "12098116   6.037464e+13  \n",
       "12643413   6.037296e+13  \n",
       "14432541   6.059042e+13  \n",
       "\n",
       "[5 rows x 59 columns]"
      ]
     },
     "execution_count": 20,
     "metadata": {},
     "output_type": "execute_result"
    }
   ],
   "source": [
    "train_data.head()"
   ]
  },
  {
   "cell_type": "code",
   "execution_count": 21,
   "metadata": {},
   "outputs": [
    {
     "data": {
      "text/plain": [
       "(90811, 59)"
      ]
     },
     "execution_count": 21,
     "metadata": {},
     "output_type": "execute_result"
    }
   ],
   "source": [
    "train_data.shape"
   ]
  },
  {
   "cell_type": "markdown",
   "metadata": {},
   "source": [
    "### Get the distributions of missing values cross rows."
   ]
  },
  {
   "cell_type": "code",
   "execution_count": 22,
   "metadata": {
    "scrolled": true
   },
   "outputs": [
    {
     "data": {
      "text/plain": [
       "Parcel_ID\n",
       "17292779    19\n",
       "17126214    19\n",
       "17192948    20\n",
       "17193859    20\n",
       "17207897    20\n",
       "17054540    20\n",
       "17267191    20\n",
       "17192980    20\n",
       "17060684    20\n",
       "17192968    20\n",
       "17194510    20\n",
       "17097120    20\n",
       "17238411    20\n",
       "17194545    20\n",
       "17071030    20\n",
       "17292778    20\n",
       "17144606    21\n",
       "17193148    21\n",
       "17226347    21\n",
       "17266177    21\n",
       "17194613    21\n",
       "17194515    21\n",
       "17271039    21\n",
       "17266100    21\n",
       "17288786    21\n",
       "17075921    21\n",
       "17209571    21\n",
       "17290532    21\n",
       "17268019    21\n",
       "17267315    21\n",
       "            ..\n",
       "11955576    57\n",
       "14240136    57\n",
       "17112936    57\n",
       "14341030    57\n",
       "14325564    57\n",
       "14068860    57\n",
       "12956255    57\n",
       "17205130    57\n",
       "14455418    57\n",
       "14325541    57\n",
       "14367642    57\n",
       "14285166    57\n",
       "14285220    57\n",
       "17112973    57\n",
       "12768362    57\n",
       "12768366    57\n",
       "13027302    57\n",
       "14341960    57\n",
       "11795571    57\n",
       "17112821    57\n",
       "17112255    57\n",
       "11970599    57\n",
       "11494656    57\n",
       "17112821    57\n",
       "14366754    57\n",
       "14341195    57\n",
       "14367623    57\n",
       "17205215    57\n",
       "17112281    57\n",
       "11877012    57\n",
       "Length: 90811, dtype: int64"
      ]
     },
     "execution_count": 22,
     "metadata": {},
     "output_type": "execute_result"
    }
   ],
   "source": [
    "train_data.isnull().sum(axis = 1).sort_values()\n",
    "#Maximum has 57 NA values, meaning there is no info for these houses at all"
   ]
  },
  {
   "cell_type": "code",
   "execution_count": 23,
   "metadata": {
    "collapsed": true,
    "scrolled": true
   },
   "outputs": [],
   "source": [
    "row_nan = Counter(train_data.isnull().sum(axis = 1))\n",
    "#There are 536 houses without any info. This may be interesting but we think it is better to eliminate at this point"
   ]
  },
  {
   "cell_type": "code",
   "execution_count": 24,
   "metadata": {
    "collapsed": true
   },
   "outputs": [],
   "source": [
    "row_nan = pd.DataFrame(row_nan.items(), columns = [\"nan\",\"count\"])"
   ]
  },
  {
   "cell_type": "code",
   "execution_count": 25,
   "metadata": {
    "scrolled": true
   },
   "outputs": [
    {
     "data": {
      "text/html": [
       "<div>\n",
       "<style>\n",
       "    .dataframe thead tr:only-child th {\n",
       "        text-align: right;\n",
       "    }\n",
       "\n",
       "    .dataframe thead th {\n",
       "        text-align: left;\n",
       "    }\n",
       "\n",
       "    .dataframe tbody tr th {\n",
       "        vertical-align: top;\n",
       "    }\n",
       "</style>\n",
       "<table border=\"1\" class=\"dataframe\">\n",
       "  <thead>\n",
       "    <tr style=\"text-align: right;\">\n",
       "      <th></th>\n",
       "      <th>nan</th>\n",
       "      <th>count</th>\n",
       "    </tr>\n",
       "  </thead>\n",
       "  <tbody>\n",
       "    <tr>\n",
       "      <th>0</th>\n",
       "      <td>19</td>\n",
       "      <td>2</td>\n",
       "    </tr>\n",
       "    <tr>\n",
       "      <th>1</th>\n",
       "      <td>20</td>\n",
       "      <td>14</td>\n",
       "    </tr>\n",
       "    <tr>\n",
       "      <th>2</th>\n",
       "      <td>21</td>\n",
       "      <td>79</td>\n",
       "    </tr>\n",
       "    <tr>\n",
       "      <th>3</th>\n",
       "      <td>22</td>\n",
       "      <td>271</td>\n",
       "    </tr>\n",
       "    <tr>\n",
       "      <th>4</th>\n",
       "      <td>23</td>\n",
       "      <td>585</td>\n",
       "    </tr>\n",
       "    <tr>\n",
       "      <th>5</th>\n",
       "      <td>24</td>\n",
       "      <td>713</td>\n",
       "    </tr>\n",
       "    <tr>\n",
       "      <th>6</th>\n",
       "      <td>25</td>\n",
       "      <td>6570</td>\n",
       "    </tr>\n",
       "    <tr>\n",
       "      <th>7</th>\n",
       "      <td>26</td>\n",
       "      <td>8857</td>\n",
       "    </tr>\n",
       "    <tr>\n",
       "      <th>8</th>\n",
       "      <td>27</td>\n",
       "      <td>13942</td>\n",
       "    </tr>\n",
       "    <tr>\n",
       "      <th>9</th>\n",
       "      <td>28</td>\n",
       "      <td>23669</td>\n",
       "    </tr>\n",
       "    <tr>\n",
       "      <th>10</th>\n",
       "      <td>29</td>\n",
       "      <td>19216</td>\n",
       "    </tr>\n",
       "    <tr>\n",
       "      <th>11</th>\n",
       "      <td>30</td>\n",
       "      <td>8243</td>\n",
       "    </tr>\n",
       "    <tr>\n",
       "      <th>12</th>\n",
       "      <td>31</td>\n",
       "      <td>4319</td>\n",
       "    </tr>\n",
       "    <tr>\n",
       "      <th>13</th>\n",
       "      <td>32</td>\n",
       "      <td>2470</td>\n",
       "    </tr>\n",
       "    <tr>\n",
       "      <th>14</th>\n",
       "      <td>33</td>\n",
       "      <td>317</td>\n",
       "    </tr>\n",
       "    <tr>\n",
       "      <th>15</th>\n",
       "      <td>34</td>\n",
       "      <td>286</td>\n",
       "    </tr>\n",
       "    <tr>\n",
       "      <th>16</th>\n",
       "      <td>35</td>\n",
       "      <td>66</td>\n",
       "    </tr>\n",
       "    <tr>\n",
       "      <th>17</th>\n",
       "      <td>36</td>\n",
       "      <td>29</td>\n",
       "    </tr>\n",
       "    <tr>\n",
       "      <th>18</th>\n",
       "      <td>37</td>\n",
       "      <td>49</td>\n",
       "    </tr>\n",
       "    <tr>\n",
       "      <th>19</th>\n",
       "      <td>38</td>\n",
       "      <td>135</td>\n",
       "    </tr>\n",
       "    <tr>\n",
       "      <th>20</th>\n",
       "      <td>39</td>\n",
       "      <td>259</td>\n",
       "    </tr>\n",
       "    <tr>\n",
       "      <th>21</th>\n",
       "      <td>40</td>\n",
       "      <td>141</td>\n",
       "    </tr>\n",
       "    <tr>\n",
       "      <th>22</th>\n",
       "      <td>41</td>\n",
       "      <td>38</td>\n",
       "    </tr>\n",
       "    <tr>\n",
       "      <th>23</th>\n",
       "      <td>42</td>\n",
       "      <td>5</td>\n",
       "    </tr>\n",
       "    <tr>\n",
       "      <th>24</th>\n",
       "      <td>57</td>\n",
       "      <td>536</td>\n",
       "    </tr>\n",
       "  </tbody>\n",
       "</table>\n",
       "</div>"
      ],
      "text/plain": [
       "    nan  count\n",
       "0    19      2\n",
       "1    20     14\n",
       "2    21     79\n",
       "3    22    271\n",
       "4    23    585\n",
       "5    24    713\n",
       "6    25   6570\n",
       "7    26   8857\n",
       "8    27  13942\n",
       "9    28  23669\n",
       "10   29  19216\n",
       "11   30   8243\n",
       "12   31   4319\n",
       "13   32   2470\n",
       "14   33    317\n",
       "15   34    286\n",
       "16   35     66\n",
       "17   36     29\n",
       "18   37     49\n",
       "19   38    135\n",
       "20   39    259\n",
       "21   40    141\n",
       "22   41     38\n",
       "23   42      5\n",
       "24   57    536"
      ]
     },
     "execution_count": 25,
     "metadata": {},
     "output_type": "execute_result"
    }
   ],
   "source": [
    "row_nan #The distribution of number of nan in each row"
   ]
  },
  {
   "cell_type": "code",
   "execution_count": 26,
   "metadata": {},
   "outputs": [
    {
     "data": {
      "text/plain": [
       "<matplotlib.text.Text at 0x1667088d0>"
      ]
     },
     "execution_count": 26,
     "metadata": {},
     "output_type": "execute_result"
    },
    {
     "data": {
      "image/png": "[encoded data removed]",
      "text/plain": [
       "<matplotlib.figure.Figure at 0x1407869d0>"
      ]
     },
     "metadata": {},
     "output_type": "display_data"
    }
   ],
   "source": [
    "ax = row_nan.plot.bar(x = 'nan', y = 'count', figsize = (8,6), fontsize = 15)\n",
    "ax.set_title(\"The counts for a specific number of NAs in a row\", fontsize = 20)"
   ]
  },
  {
   "cell_type": "code",
   "execution_count": 27,
   "metadata": {
    "scrolled": true
   },
   "outputs": [
    {
     "data": {
      "text/plain": [
       "(536, 59)"
      ]
     },
     "execution_count": 27,
     "metadata": {},
     "output_type": "execute_result"
    }
   ],
   "source": [
    "#The rows with all nan\n",
    "train_nan = train_data[train_data.isnull().sum(axis = 1) == 57]\n",
    "train_nan.shape"
   ]
  },
  {
   "cell_type": "markdown",
   "metadata": {},
   "source": [
    "### Remove the rows with 57 Nan values, all the features are missing."
   ]
  },
  {
   "cell_type": "code",
   "execution_count": 28,
   "metadata": {},
   "outputs": [
    {
     "data": {
      "text/plain": [
       "(90275, 59)"
      ]
     },
     "execution_count": 28,
     "metadata": {},
     "output_type": "execute_result"
    }
   ],
   "source": [
    "#remove the rows with 57 nan values\n",
    "train = train_data[train_data.isnull().sum(axis = 1) != 57]\n",
    "train.shape"
   ]
  },
  {
   "cell_type": "code",
   "execution_count": 30,
   "metadata": {
    "collapsed": true
   },
   "outputs": [],
   "source": [
    "train.to_csv(\"train.csv\")"
   ]
  },
  {
   "cell_type": "markdown",
   "metadata": {},
   "source": [
    "## Read in raw train data with missing values and Deal with missing values."
   ]
  },
  {
   "cell_type": "code",
   "execution_count": 2,
   "metadata": {
    "collapsed": true
   },
   "outputs": [],
   "source": [
    "train = pd.read_csv(\"train.csv\")"
   ]
  },
  {
   "cell_type": "code",
   "execution_count": 3,
   "metadata": {
    "scrolled": true
   },
   "outputs": [
    {
     "data": {
      "text/plain": [
       "Index([u'Parcel_ID', u'logerror', u'AC_Type', u'Arch_Type', u'Basement_Area',\n",
       "       u'Bath_Count', u'Bed_Count', u'Frame_Type', u'Quality_Level',\n",
       "       u'Bed_with_bath_Count', u'Deck_Type', u'First_calculated_Area',\n",
       "       u'Total_living_Area', u'Finished_living_Area', u'Perimeter_living_Area',\n",
       "       u'Total_Area', u'First_Area', u'Base_total_Area', u'FIPS',\n",
       "       u'FirePlace_Count', u'Bath_full_Count', u'Garage_Count', u'Garage_Area',\n",
       "       u'Heat_Type', u'Latitude', u'Longitude', u'Lot_Area', u'Pool_Count',\n",
       "       u'Pool_Area', u'Spa_Tub', u'Pool_with_Spa_Tub', u'Pool_wo_Spa_Tub',\n",
       "       u'Land_Type', u'Raw_census', u'City', u'County', u'Neighborhood',\n",
       "       u'Zipcode', u'Room_Count', u'Floor_Type', u'Bath_partial_Count',\n",
       "       u'Material_Type', u'Unit_Count', u'Patio_yard_Area',\n",
       "       u'Storage_yard_Area', u'Year', u'Story_Count', u'Tax_structure_Value',\n",
       "       u'Tax_total_Value', u'Tax_assess_Year', u'Taxable_land_Value',\n",
       "       u'Tax_Amount', u'Tax_delinq_Year', u'Census'],\n",
       "      dtype='object')"
      ]
     },
     "execution_count": 3,
     "metadata": {},
     "output_type": "execute_result"
    }
   ],
   "source": [
    "#numerical variable include\n",
    "train.select_dtypes(include = ['float64','int64']).columns"
   ]
  },
  {
   "cell_type": "code",
   "execution_count": 4,
   "metadata": {},
   "outputs": [
    {
     "data": {
      "text/plain": [
       "Index([u'tran_date', u'Tub_Spa_Type', u'Land_Code', u'Zone_desc',\n",
       "       u'Fireplace_YN', u'Tax_delinq_YN'],\n",
       "      dtype='object')"
      ]
     },
     "execution_count": 4,
     "metadata": {},
     "output_type": "execute_result"
    }
   ],
   "source": [
    "train.select_dtypes(include = ['object']).columns"
   ]
  },
  {
   "cell_type": "code",
   "execution_count": 5,
   "metadata": {
    "scrolled": false
   },
   "outputs": [
    {
     "data": {
      "text/plain": [
       "<matplotlib.text.Text at 0x10bf5dcd0>"
      ]
     },
     "execution_count": 5,
     "metadata": {},
     "output_type": "execute_result"
    },
    {
     "data": {
      "image/png": "[encoded data removed]",
      "text/plain": [
       "<matplotlib.figure.Figure at 0x11974eb90>"
      ]
     },
     "metadata": {},
     "output_type": "display_data"
    }
   ],
   "source": [
    "feature_mis = pd.DataFrame(train.isnull().sum().sort_values(),  columns = [\"Nan_Count\"])\n",
    "\n",
    "ax = feature_mis.plot.barh(figsize = (18,30),fontsize = 20)\n",
    "ax.set_title(\"The Number of Nan in original data\", fontsize = 20)"
   ]
  },
  {
   "cell_type": "markdown",
   "metadata": {},
   "source": [
    "## Tax_delinq_Year"
   ]
  },
  {
   "cell_type": "code",
   "execution_count": 6,
   "metadata": {},
   "outputs": [
    {
     "data": {
      "text/plain": [
       "array([ nan,  13.,  15.,  12.,  14.,  10.,   9.,   8.,  11.,   7.,   6.,\n",
       "        99.])"
      ]
     },
     "execution_count": 6,
     "metadata": {},
     "output_type": "execute_result"
    }
   ],
   "source": [
    "#change year to the exact year, leave nan unchanged\n",
    "train.Tax_delinq_Year.unique()"
   ]
  },
  {
   "cell_type": "code",
   "execution_count": 7,
   "metadata": {
    "collapsed": true
   },
   "outputs": [],
   "source": [
    "train.Tax_delinq_Year.replace([float(x) for x in range(1,18)],[x for x in range(2001,2018)],inplace = True)\n",
    "\n",
    "train.Tax_delinq_Year.replace([99.],[1999], inplace = True)"
   ]
  },
  {
   "cell_type": "code",
   "execution_count": 8,
   "metadata": {
    "collapsed": true
   },
   "outputs": [],
   "source": [
    "train.Tax_delinq_Year.fillna(-10000, inplace = True)"
   ]
  },
  {
   "cell_type": "code",
   "execution_count": 9,
   "metadata": {
    "scrolled": true
   },
   "outputs": [
    {
     "data": {
      "text/plain": [
       "array([-10000.,   2013.,   2015.,   2012.,   2014.,   2010.,   2009.,\n",
       "         2008.,   2011.,   2007.,   2006.,   1999.])"
      ]
     },
     "execution_count": 9,
     "metadata": {},
     "output_type": "execute_result"
    }
   ],
   "source": [
    "train.Tax_delinq_Year.unique()"
   ]
  },
  {
   "cell_type": "markdown",
   "metadata": {},
   "source": [
    "## Tax_delinq_YN"
   ]
  },
  {
   "cell_type": "code",
   "execution_count": 10,
   "metadata": {},
   "outputs": [
    {
     "data": {
      "text/plain": [
       "array([nan, 'Y'], dtype=object)"
      ]
     },
     "execution_count": 10,
     "metadata": {},
     "output_type": "execute_result"
    }
   ],
   "source": [
    "#\"Y\" or \"N\" for delinq\n",
    "train.Tax_delinq_YN.unique()"
   ]
  },
  {
   "cell_type": "code",
   "execution_count": 11,
   "metadata": {
    "collapsed": true
   },
   "outputs": [],
   "source": [
    "train.Tax_delinq_YN.fillna(\"N\", inplace = True)"
   ]
  },
  {
   "cell_type": "markdown",
   "metadata": {},
   "source": [
    "## Fireplace_YN"
   ]
  },
  {
   "cell_type": "code",
   "execution_count": 12,
   "metadata": {},
   "outputs": [
    {
     "data": {
      "text/plain": [
       "array([nan, True], dtype=object)"
      ]
     },
     "execution_count": 12,
     "metadata": {},
     "output_type": "execute_result"
    }
   ],
   "source": [
    "train.Fireplace_YN.unique()"
   ]
  },
  {
   "cell_type": "code",
   "execution_count": 13,
   "metadata": {
    "collapsed": true
   },
   "outputs": [],
   "source": [
    "train.Fireplace_YN.fillna(False, inplace = True)"
   ]
  },
  {
   "cell_type": "markdown",
   "metadata": {},
   "source": [
    "## Storage_yard_Area"
   ]
  },
  {
   "cell_type": "code",
   "execution_count": 14,
   "metadata": {},
   "outputs": [
    {
     "data": {
      "text/plain": [
       "array([   nan,  1200.,   126.,   322.,   120.,   235.,   125.,  1197.,\n",
       "         204.,   156.,    62.,    18.,    55.,   168.,    56.,    54.,\n",
       "         100.,    36.,   110.,   144.,   264.,   180.,   119.,   252.,\n",
       "         477.,   150.,   268.,   230.,   231.,   308.,    60.,    34.,\n",
       "         136.,   864.,   846.,    88.,   159.,  1366.,    37.,    78.,\n",
       "         642.,   627.,   960.,  1000.,  1182.,   400.,   276.,   290.,\n",
       "         943.,   192.,   480.,   288.,   108.,    49.,   525.,   408.,\n",
       "         133.,    96.,    72.,   504.,   310.,   160.,    41.,   104.,\n",
       "          33.,    90.,    48.,  1050.,   200.,  1100.,   240.,  1248.,\n",
       "         648.,   550.])"
      ]
     },
     "execution_count": 14,
     "metadata": {},
     "output_type": "execute_result"
    }
   ],
   "source": [
    "#not sure whether it is reasonalble to change to 0\n",
    "train.Storage_yard_Area.unique()"
   ]
  },
  {
   "cell_type": "code",
   "execution_count": 15,
   "metadata": {
    "collapsed": true
   },
   "outputs": [],
   "source": [
    "train.Storage_yard_Area.fillna(0, inplace = True)"
   ]
  },
  {
   "cell_type": "markdown",
   "metadata": {},
   "source": [
    "## Patio_yard_Area"
   ]
  },
  {
   "cell_type": "code",
   "execution_count": 16,
   "metadata": {
    "scrolled": true
   },
   "outputs": [
    {
     "data": {
      "text/plain": [
       "array([   nan,    54.,   364.,   144.,    77.,   384.,   520.,   247.,\n",
       "         628.,   984.,   424.,   220.,   180.,    80.,   200.,   389.,\n",
       "          50.,   276.,   157.,   236.,   300.,   396.,   450.,   973.,\n",
       "         216.,   150.,    84.,   110.,   420.,    98.,   160.,   210.,\n",
       "         175.,   242.,   312.,   372.,   208.,   440.,   270.,   400.,\n",
       "         351.,   307.,   900.,   720.,   129.,   260.,   361.,   325.,\n",
       "         329.,   120.,   100.,   624.,   456.,   126.,   382.,   598.,\n",
       "          97.,   136.,   395.,   188.,  1700.,   432.,   273.,   358.,\n",
       "         843.,   253.,   190.,   104.,   438.,   170.,   109.,   263.,\n",
       "         192.,   342.,    72.,   310.,   204.,   668.,   262.,   226.,\n",
       "         529.,   135.,   324.,   427.,   119.,   360.,   474.,   240.,\n",
       "         219.,  1262.,   535.,   553.,   472.,   492.,   166.,   330.,\n",
       "         620.,   235.,   254.,   495.,   256.,   308.,    70.,   753.,\n",
       "         224.,   514.,   292.,   350.,   128.,   317.,   184.,   352.,\n",
       "         164.,   336.,   340.,   280.,   154.,   714.,   105.,   390.,\n",
       "         373.,    63.,   588.,   480.,   297.,    78.,   228.,    36.,\n",
       "         366.,   503.,   460.,   405.,   196.,    45.,   140.,    64.,\n",
       "         388.,   112.,   168.,   602.,   392.,   314.,   448.,   225.,\n",
       "         322.,   106.,   289.,   408.,   819.,   794.,   533.,   201.,\n",
       "         288.,   442.,   290.,   600.,   504.,   252.,    90.,   800.,\n",
       "        1272.,   250.,   375.,   130.,   217.,   540.,   267.,   320.,\n",
       "         870.,   356.,   781.,   687.,   286.,   333.,    30.,   421.,\n",
       "         468.,   509.,   486.,   177.,   108.,   363.,   733.,   178.,\n",
       "         132.,  1147.,   198.,   425.,   116.,   287.,   660.,   690.,\n",
       "         311.,   221.,    40.,   209.,   296.,    83.,   465.,   153.,\n",
       "         444.,   348.,   980.,   245.,   374.,  1030.,   548.,   488.,\n",
       "         215.,   732.,   123.,   515.,   275.,   230.,   596.,   644.,\n",
       "         932.,   666.,   469.,   394.,   409.,   895.,   133.,   609.,\n",
       "         531.,   380.,   947.,   584.,   294.,   500.,   776.,   454.,\n",
       "         839.,   179.,   992.,   552.,   102.,   680.,   368.,   462.,\n",
       "         692.,   435.,   750.,   378.,   156.,   801.,   452.,   346.,\n",
       "         239.,    68.,   298.,   458.,   264.,    41.,   508.,   195.,\n",
       "          67.,   161.,    96.,   676.,  1077.,   141.,   528.,   568.,\n",
       "         269.,   423.,   231.,   467.,   657.,   302.,   412.,   470.,\n",
       "         182.,  1186.,   113.,   114.,   706.,   635.,  2678.,    88.,\n",
       "        1107.,   176.,   142.,   285.,   640.,   704.,   143.,   315.,\n",
       "         962.,  1017.,   526.,   798.,   711.,   662.,   162.,   344.,\n",
       "         117.,   592.,   700.,   207.,   464.,   266.,   121.,   560.,\n",
       "        1397.,   479.,   391.,   576.,   681.,   326.,   430.,   686.,\n",
       "         229.,   971.,   544.,    81.,   630.,   862.,   402.,   122.,\n",
       "         233.,   205.,   525.,    25.,   447.,   431.,    91.,   244.,\n",
       "         255.,   688.,   379.,   234.,    56.,  1208.,   530.,   696.,\n",
       "         938.,    42.,   805.,   367.,   318.,  1535.,   293.,   445.,\n",
       "         183.,    85.,   760.,   227.,   148.,   612.,   418.,  1502.,\n",
       "         449.,    48.,   313.,   659.,    79.,   758.,  1018.,   243.,\n",
       "         725.,   701.,   258.,   575.,   241.,    65.,   625.,   550.,\n",
       "        1374.,  1120.,   459.,   338.,   426.,   632.,   441.,   616.,\n",
       "         299.,   159.,   353.,   702.,   808.,   626.,   137.,   181.,\n",
       "         501.,   416.,   623.,   165.,  1405.,   341.,   167.,   419.,\n",
       "         736.,   370.,   511.,   570.,   304.,   115.,   125.,   836.,\n",
       "         484.,   859.,   189.,   770.,    49.,   124.,   694.,   345.,\n",
       "         476.,  1354.,   277.,   433.,   610.,   155.,    93.,   728.,\n",
       "         554.,   996.,  1410.,   127.,   334.,   232.,   187.,   451.,\n",
       "         206.,   251.,   558.,   172.,  1652.,    75.,   327.,   982.,\n",
       "         806.,    66.,    37.,   683.,   675.,   650.,    99.,  1045.,\n",
       "         519.,   850.,   824.,   825.,   203.,   306.,   546.,   490.,\n",
       "         564.,   864.,   883.,   698.,    87.,   663.,   265.,   672.,\n",
       "         555.,   218.,   305.,  1257.,   407.,   343.,   171.,   976.,\n",
       "        1176.,   174.,   415.,   594.,   547.,  1000.,    55.,  1032.,\n",
       "         328.,   475.,   597.,   512.,   152.,  1071.,   631.,   471.,\n",
       "         638.,    60.,   661.,   518.,   892.,   477.,   715.,    28.,\n",
       "        1158.,   647.,   337.,   410.,   782.,   886.,   854.,  1804.,\n",
       "          31.,   284.,   111.,   185.,   929.,   516.,   764.,   303.,\n",
       "         816.,   510.,   848.,   429.,   536.,   542.,   428.,   158.,\n",
       "         645.,   828.,   359.,   248.,   532.,   832.,   571.,  1911.,\n",
       "         413.,   268.,    95.,   385.,    44.,   173.,   357.,   534.,\n",
       "         238.,   149.,   485.,    92.,    57.,   767.,   134.,   274.,\n",
       "         316.,   772.,   323.,   321.,   768.,   513.,   186.,   910.,\n",
       "         222.,   347.,   608.,   272.,   742.,   677.,   543.,   147.,\n",
       "         734.,   926.,  1608.,   740.,   875.,   574.,   783.,   888.,\n",
       "         589.,   446.,  2571.,   259.,   457.,  1185.,   840.,   924.])"
      ]
     },
     "execution_count": 16,
     "metadata": {},
     "output_type": "execute_result"
    }
   ],
   "source": [
    "#change to 0\n",
    "train.Patio_yard_Area.unique()"
   ]
  },
  {
   "cell_type": "code",
   "execution_count": 17,
   "metadata": {
    "collapsed": true
   },
   "outputs": [],
   "source": [
    "\n",
    "train.Patio_yard_Area.fillna(0, inplace = True)"
   ]
  },
  {
   "cell_type": "markdown",
   "metadata": {},
   "source": [
    "## Unit_Count"
   ]
  },
  {
   "cell_type": "code",
   "execution_count": 18,
   "metadata": {},
   "outputs": [
    {
     "data": {
      "text/plain": [
       "array([   1.,   nan,    2.,    4.,    3.,    6.,  143.,   11.,    9.,\n",
       "          5.,   70.])"
      ]
     },
     "execution_count": 18,
     "metadata": {},
     "output_type": "execute_result"
    }
   ],
   "source": [
    "#do not know how to deal\n",
    "train.Unit_Count.unique()"
   ]
  },
  {
   "cell_type": "code",
   "execution_count": 19,
   "metadata": {
    "collapsed": true
   },
   "outputs": [],
   "source": [
    "train.Unit_Count.fillna(-1, inplace = True)"
   ]
  },
  {
   "cell_type": "code",
   "execution_count": 20,
   "metadata": {
    "collapsed": true
   },
   "outputs": [],
   "source": [
    "train[\"Unit_Count_KU\"] = [0 if x == -1 else 1 for x in train.Unit_Count]"
   ]
  },
  {
   "cell_type": "markdown",
   "metadata": {},
   "source": [
    "## Material_Type"
   ]
  },
  {
   "cell_type": "code",
   "execution_count": 23,
   "metadata": {},
   "outputs": [
    {
     "data": {
      "text/plain": [
       "array([ nan,   6.,  13.,   4.])"
      ]
     },
     "execution_count": 23,
     "metadata": {},
     "output_type": "execute_result"
    }
   ],
   "source": [
    "train.Material_Type.unique()"
   ]
  },
  {
   "cell_type": "code",
   "execution_count": 24,
   "metadata": {
    "collapsed": true
   },
   "outputs": [],
   "source": [
    "train.Material_Type.fillna(\"Unknown\", inplace = True)"
   ]
  },
  {
   "cell_type": "markdown",
   "metadata": {},
   "source": [
    "## Bath_partial_Count"
   ]
  },
  {
   "cell_type": "code",
   "execution_count": 25,
   "metadata": {},
   "outputs": [
    {
     "data": {
      "text/plain": [
       "array([ nan,   1.,   2.,   3.,   4.])"
      ]
     },
     "execution_count": 25,
     "metadata": {},
     "output_type": "execute_result"
    }
   ],
   "source": [
    "train.Bath_partial_Count.unique()"
   ]
  },
  {
   "cell_type": "code",
   "execution_count": 26,
   "metadata": {
    "collapsed": true
   },
   "outputs": [],
   "source": [
    "train.Bath_partial_Count.fillna(0, inplace = True)"
   ]
  },
  {
   "cell_type": "markdown",
   "metadata": {},
   "source": [
    "## Floor_Type"
   ]
  },
  {
   "cell_type": "code",
   "execution_count": 27,
   "metadata": {},
   "outputs": [
    {
     "data": {
      "text/plain": [
       "array([ nan,   7.])"
      ]
     },
     "execution_count": 27,
     "metadata": {},
     "output_type": "execute_result"
    }
   ],
   "source": [
    "train.Floor_Type.unique()"
   ]
  },
  {
   "cell_type": "code",
   "execution_count": 28,
   "metadata": {
    "collapsed": true
   },
   "outputs": [],
   "source": [
    "train.Floor_Type.fillna(\"Unknown\", inplace = True)"
   ]
  },
  {
   "cell_type": "markdown",
   "metadata": {},
   "source": [
    "## Zipcode"
   ]
  },
  {
   "cell_type": "code",
   "execution_count": 29,
   "metadata": {
    "scrolled": true
   },
   "outputs": [
    {
     "data": {
      "text/plain": [
       "array([  96370.,   96962.,   96293.,   96222.,   96961.,   96109.,\n",
       "         96091.,   97101.,   96987.,   96963.,   96426.,   96120.,\n",
       "         96437.,   96947.,   97035.,   96964.,   96393.,   96238.,\n",
       "         96990.,   96379.,   96239.,   97001.,   97052.,   96026.,\n",
       "         97050.,   96190.,   97329.,   96349.,   96374.,   96088.,\n",
       "         96242.,   96008.,   96361.,   96364.,   97007.,   97078.,\n",
       "         96220.,   97004.,   96295.,   97067.,   96043.,   97048.,\n",
       "         96387.,   96971.,   96013.,   96505.,   96506.,   96513.,\n",
       "         97008.,   97041.,   96978.,   96097.,   96133.,   96324.,\n",
       "         96993.,   96474.,   97026.,   96007.,   96952.,   97116.,\n",
       "         96447.,   96436.,   97005.,   96384.,   96475.,   96383.,\n",
       "         96996.,   96986.,   96072.,   96107.,   96965.,   97020.,\n",
       "         96247.,   97106.,   96995.,   97059.,   96169.,   96028.,\n",
       "         96020.,   96969.,   96029.,   96351.,   96974.,   97083.,\n",
       "         96183.,   96957.,   97107.,   96420.,   96193.,   96058.,\n",
       "         97065.,   97039.,   96337.,   96982.,   96507.,   97319.,\n",
       "         96159.,   96369.,   96240.,   95984.,   96268.,   97091.,\n",
       "         96282.,   96090.,   96284.,   96173.,   96045.,   97024.,\n",
       "         96234.,   97099.,   97318.,   96092.,   96162.,   97047.,\n",
       "         96451.,   96515.,   95983.,   96989.,   97344.,   97023.,\n",
       "         97021.,   95992.,   96368.,   96531.,   96181.,   96412.,\n",
       "         96230.,   96027.,   96125.,   97040.,   96497.,   97018.,\n",
       "         96127.,   96449.,   96336.,   96186.,   96030.,   96958.,\n",
       "         96424.,   96966.,   96948.,   96378.,   96185.,   96385.,\n",
       "         96270.,   96049.,   96377.,   96023.,   96508.,   96213.,\n",
       "         96048.,   96488.,   96415.,   96433.,   96206.,   96161.,\n",
       "         96464.,   96373.,   96044.,   96174.,   97027.,   95987.,\n",
       "         96489.,   96121.,   96124.,   96983.,   96208.,   96465.,\n",
       "         96046.,   96294.,   97097.,   95989.,   96216.,   96087.,\n",
       "         96016.,   96171.,   96414.,   96134.,   96163.,   97328.,\n",
       "         96486.,   96126.,   97079.,   96346.,   96975.,   96956.,\n",
       "         97037.,   96524.,   96265.,   96273.,   96197.,   96322.,\n",
       "         97068.,   96241.,   96292.,   96050.,   96246.,   96375.,\n",
       "         96517.,   96149.,   97330.,   96450.,   96342.,   96009.,\n",
       "         96006.,   96981.,   96967.,   96291.,   96469.,   96201.,\n",
       "         96341.,   96980.,   96212.,   96452.,   96019.,   96024.,\n",
       "         96000.,   97066.,   97324.,   96940.,   96410.,   96479.,\n",
       "         97118.,   96047.,   96160.,   96325.,   96244.,   96355.,\n",
       "         96522.,   96128.,   96101.,   97089.,   96939.,   96356.,\n",
       "         96321.,   96100.,   95997.,   96229.,   96403.,   96003.,\n",
       "         96129.,   96083.,   95986.,   95988.,   96354.,   96954.,\n",
       "         97025.,   97051.,   97003.,   96411.,   96218.,   97323.,\n",
       "         96116.,   96473.,   96525.,   96117.,   96330.,   96122.,\n",
       "         96533.,   96005.,   96296.,   95985.,   95996.,   96973.,\n",
       "         95982.,   96998.,   96217.,   96015.,   96123.,   96389.,\n",
       "         97064.,   96352.,   96025.,   96494.,   96434.,   96236.,\n",
       "         96215.,   96366.,   96037.,   96237.,   96438.,   96113.,\n",
       "         96339.,   97084.,   96951.,   96496.,   95994.,   96401.,\n",
       "         96485.,   96022.,   96017.,   96327.,   96180.,   96203.,\n",
       "         96086.,   96326.,   96221.,   97063.,   96095.,   97317.,\n",
       "         97298.,   96979.,   96012.,   96042.,   96152.,   96480.,\n",
       "         95999.,   95993.,   96492.,   96010.,   96985.,   96395.,\n",
       "         97119.,   97081.,   96018.,   96943.,   96106.,   96510.,\n",
       "         96172.,   96001.,   96228.,   97098.,   96245.,   96104.,\n",
       "         97043.,   96278.,   96280.,   96103.,   97104.,   96192.,\n",
       "         97016.,   96398.,   96959.,   96941.,   97006.,   96271.,\n",
       "         96170.,   96021.,   96523.,   96151.,   96371.,   96150.,\n",
       "            nan,   96207.,   96110.,   96102.,   96323.,   96289.,\n",
       "         96204.,   96014.,   96946.,   96446.,   96490.,   96514.,\n",
       "         96137.,   96038.,   97331.,   96136.,   96105.,   97109.,\n",
       "         96320.,   96210.,   96119.,   96478.,   96267.,   96225.,\n",
       "         96004.,   96338.,   96111.,   96275.,   97113.,   96040.,\n",
       "         97316.,   95998.,   96002.,   96135.,   97094.,   97108.,\n",
       "         96148.,   95995.,  399675.,   95991.,   96329.,   96500.,\n",
       "         96039.,   96467.,   96034.,   97111.,   96226.])"
      ]
     },
     "execution_count": 29,
     "metadata": {},
     "output_type": "execute_result"
    }
   ],
   "source": [
    "#Zipcode is object now\n",
    "train.Zipcode.unique()"
   ]
  },
  {
   "cell_type": "code",
   "execution_count": 30,
   "metadata": {
    "collapsed": true
   },
   "outputs": [],
   "source": [
    "#change to unknow \n",
    "train.Zipcode = train.Zipcode.fillna(0).astype(\"int64\").astype(\"object\")"
   ]
  },
  {
   "cell_type": "markdown",
   "metadata": {},
   "source": [
    "## Neighborhood"
   ]
  },
  {
   "cell_type": "code",
   "execution_count": 32,
   "metadata": {
    "scrolled": true
   },
   "outputs": [
    {
     "data": {
      "text/plain": [
       "array([  31817.,      nan,  275411.,   54300.,   51906.,   19810.,\n",
       "        273096.,  274961.,   47950.,  276476.,    7877.,  273567.,\n",
       "         37739.,  416320.,  274359.,   40215.,   40548.,  268509.,\n",
       "        275738.,  275426.,  118208.,   48570.,  114914.,  762187.,\n",
       "        275396.,  113455.,  268134.,  403197.,   47880.,   13327.,\n",
       "        273252.,  274800.,  276606.,  268473.,  276450.,   46736.,\n",
       "        274828.,   28119.,   27080.,  113749.,  116302.,  274895.,\n",
       "         13017.,  276157.,  268496.,   27328.,   27484.,  403142.,\n",
       "        275470.,  275695.,  274750.,  268548.,  118849.,  118872.,\n",
       "        417224.,  273197.,  268249.,   46795.,  403196.,  268002.,\n",
       "        116375.,   21056.,  113910.,  276119.,   48200.,  113688.,\n",
       "        274049.,  115609.,  275496.,  114246.,   32368.,  275994.,\n",
       "          6952.,  113886.,  403192.,  116774.,  275405.,  268097.,\n",
       "         41466.,  118825.,   37835.,  275884.,  272968.,  273539.,\n",
       "        416304.,   34213.,   41131.,  275958.,  268588.,   32059.,\n",
       "        117954.,  274684.,  274513.,  274514.,  275111.,  762685.,\n",
       "        403184.,   33183.,  276256.,  275824.,  259606.,  274371.,\n",
       "        275856.,  273837.,  274293.,  276514.,  273825.,  275989.,\n",
       "        276486.,  416330.,  273198.,   13176.,  274815.,  275785.,\n",
       "        275428.,  274582.,  764164.,  762179.,  416329.,  118920.,\n",
       "        268482.,  268551.,   27431.,  623382.,  274517.,  268404.,\n",
       "        764108.,  117183.,  762928.,  275024.,   38888.,  416964.,\n",
       "         26134.,  416306.,  273486.,  268581.,  272737.,  116415.,\n",
       "        343505.,  118887.,   30731.,  275795.,  268057.,  416331.,\n",
       "        114808.,  274695.,  155228.,  275857.,  268010.,  403183.,\n",
       "        416302.,  416967.,  275257.,  274765.,  762186.,  268244.,\n",
       "        274425.,  116206.,  268323.,  115836.,  761545.,  763094.,\n",
       "        275078.,  764141.,  274262.,  273834.,  761215.,  268604.,\n",
       "        275979.,  762190.,  273059.,  762175.,  275826.,  762683.,\n",
       "         48516.,  763218.,  416312.,  273400.,  764095.,  268596.,\n",
       "        274392.,  416334.,  762931.,  115729.,  764088.,  276023.,\n",
       "        275784.,  156012.,  273257.,  761542.,  116646.,  761546.,\n",
       "        274494.,  268546.,  268160.,  268157.,  268118.,  268392.,\n",
       "        761547.,  274940.,  273611.,  191484.,  275129.,  276121.,\n",
       "        276258.,  275067.,  762177.,  265889.,   25449.,   27987.,\n",
       "        268403.,  273930.,  403191.,  273868.,  403190.,  762181.,\n",
       "        403193.,  273263.,  762930.,  275340.,  763220.,  268055.,\n",
       "        764087.,  224568.,  762949.,  268454.,  268236.,  275207.,\n",
       "        416347.,  416318.,  763219.,  272933.,  764106.,  761097.,\n",
       "        268441.,  115657.,  764105.,   33952.,  275512.,  268288.,\n",
       "        761211.,  268268.,  764107.,  274857.,  273617.,  272725.,\n",
       "        272969.,  762185.,  416307.,  268162.,  276293.,  416338.,\n",
       "        416333.,  113713.,  416315.,  416310.,  416303.,  268007.,\n",
       "        268540.,  117148.,  275567.,  274705.,  623381.,  116430.,\n",
       "        268132.,  623379.,  117023.,  762962.,  274587.,  761210.,\n",
       "        268316.,  273109.,  762189.,  417433.,  761222.,  403195.,\n",
       "        416309.,  273339.,  416350.,  268293.,  268453.,  416966.,\n",
       "        116692.,  761055.,  762184.,  761218.,  268430.,  763680.,\n",
       "        764147.,  762178.,  268413.,  274358.,  764142.,  623378.,\n",
       "        272732.,  260611.,  764101.,  416313.,  116828.,  764094.,\n",
       "        762956.,  416305.,  416308.,  764144.,  761541.,  763012.,\n",
       "        273041.,  416336.,  214079.,  416339.,  273890.,  268269.,\n",
       "        757352.,  764166.,  416317.,  761543.,  416319.,  268334.,\n",
       "        274995.,  416860.,  761223.,  268585.,  416314.,  262098.,\n",
       "        764098.,  763679.,  762527.,  762959.,  275130.,  417225.,\n",
       "        764089.,  276449.,  276257.,  268602.,  273168.,  268103.,\n",
       "        416346.,  763789.,  623380.,  273572.,  763011.,  275916.,\n",
       "        275300.,  275339.,  762940.,  761221.,  276581.,   19265.,\n",
       "        762942.,  416965.,   30685.,  762944.,  416332.,  763090.,\n",
       "        268208.,  275210.,  416343.,  416316.,  276461.,  764109.,\n",
       "        763527.,  259818.,  268253.,  403194.,  763169.,  273663.,\n",
       "        268605.,   36630.,  762929.,  762188.,  416344.,  761220.,\n",
       "        763080.,  416335.,  274580.,  762183.,  762945.,  274343.,\n",
       "        268050.,  761544.,  260382.,  273633.,  762948.,  762955.,\n",
       "        763171.,  762684.,   22655.,  762950.,  403127.,  761099.,\n",
       "        764167.,  764135.,  764134.,  762961.,  268587.,  764143.,\n",
       "        623377.,  273042.,  274418.,  267436.,  118106.,  763089.,\n",
       "        273789.,  763170.,  268451.,  416349.,  762682.,  762938.,\n",
       "        764102.,  764140.,  273791.,  416342.,  268144.,  272912.,\n",
       "        273615.,  273677.,  764090.,  762951.,  761214.,  764096.,\n",
       "        764099.,  763172.,  411433.,  764165.,  268572.,   11950.,\n",
       "        762947.,  273866.,  764074.,  762934.,  762963.,  275778.,\n",
       "        764104.,  416873.,  416345.,  762952.,  416337.,  764103.,\n",
       "        762957.,  762939.,  762890.,   51224.,  764097.,  760999.,\n",
       "        246825.,  273313.,  764136.,  267814.,  764148.,  248165.,\n",
       "        276061.,  115656.,  764152.,  762935.,  764145.,  762946.,\n",
       "        764093.,  762180.,  764138.,  763185.,  416963.,  416341.,\n",
       "        220669.,  761094.,  764149.,  272170.,  266606.,  135143.,\n",
       "        276299.,  761098.,  763791.,  761001.,  762191.,  273607.,\n",
       "        761000.,  416311.,  268291.,  273350.,  259315.,  762192.,\n",
       "        761219.,  416340.,  762927.,  763217.,  762953.,  268446.,\n",
       "        114909.,  763079.,  276348.,  764139.,  761090.,  762932.,\n",
       "        275287.,  762960.,  762937.])"
      ]
     },
     "execution_count": 32,
     "metadata": {},
     "output_type": "execute_result"
    }
   ],
   "source": [
    "train.Neighborhood.unique()"
   ]
  },
  {
   "cell_type": "code",
   "execution_count": 33,
   "metadata": {
    "collapsed": true
   },
   "outputs": [],
   "source": [
    "train.Neighborhood.fillna(\"Unknown\",inplace = True)"
   ]
  },
  {
   "cell_type": "markdown",
   "metadata": {},
   "source": [
    "## County"
   ]
  },
  {
   "cell_type": "code",
   "execution_count": 34,
   "metadata": {},
   "outputs": [
    {
     "data": {
      "text/plain": [
       "array([ 3101.,  1286.,  2061.])"
      ]
     },
     "execution_count": 34,
     "metadata": {},
     "output_type": "execute_result"
    }
   ],
   "source": [
    "train.County.unique()"
   ]
  },
  {
   "cell_type": "code",
   "execution_count": 35,
   "metadata": {
    "collapsed": true
   },
   "outputs": [],
   "source": [
    "train.County = train.County.astype(\"object\")"
   ]
  },
  {
   "cell_type": "markdown",
   "metadata": {},
   "source": [
    "## City"
   ]
  },
  {
   "cell_type": "code",
   "execution_count": 36,
   "metadata": {
    "scrolled": true
   },
   "outputs": [
    {
     "data": {
      "text/plain": [
       "array([  12447.,   32380.,   47019.,   17686.,   29712.,   24174.,\n",
       "         13150.,   25459.,   46098.,  396054.,   52650.,   17150.,\n",
       "         25218.,   53655.,   46298.,   34780.,   47568.,   24832.,\n",
       "          5465.,   40227.,   54311.,   10389.,   21412.,    6395.,\n",
       "         33252.,   25458.,   24384.,   20008.,   33836.,    8384.,\n",
       "         24812.,   53571.,   51617.,   45888.,   45457.,   15554.,\n",
       "         24245.,   16764.,   27110.,   40081.,   41673.,   34278.,\n",
       "         12773.,   16389.,   42150.,   54970.,      nan,   52842.,\n",
       "         34543.,   15237.,   53636.,   37688.,   13693.,    5534.,\n",
       "         54722.,   50749.,   51239.,   27491.,  118225.,   27103.,\n",
       "         13091.,   33837.,   50677.,   10608.,   10723.,   48424.,\n",
       "         47762.,    6021.,    9840.,   18874.,   38032.,   44833.,\n",
       "         24435.,   12292.,   10774.,   37015.,  396556.,   45602.,\n",
       "         33311.,   33612.,   44116.,   10241.,   25974.,   21778.,\n",
       "         14634.,   11626.,   40009.,   14542.,   30187.,   32923.,\n",
       "         26483.,   26531.,   14906.,   14111.,   26964.,   18875.,\n",
       "         30908.,   13716.,   39306.,  118914.,   38980.,   25621.,\n",
       "         51861.,  118878.,   34636.,    4406.,   17882.,   30399.,\n",
       "         46314.,   29189.,   12520.,   19177.,   54053.,   37086.,\n",
       "         54299.,  396053.,   52835.,   53027.,   39308.,   47547.,\n",
       "        116042.,  118694.,   32616.,   42967.,   16677.,  118994.,\n",
       "         22827.,   33840.,  396550.,  113576.,   34037.,  118875.,\n",
       "         45398.,  118217.,   54212.,  114828.,  396551.,   40110.,\n",
       "         46178.,   47695.,   27183.,   55753.,   25953.,   10734.,\n",
       "        118895.,   46080.,  272578.,   47198.,   17597.,   13232.,\n",
       "          3491.,   39076.,   33727.,   30267.,   32753.,   56780.,\n",
       "         54352.,   42091.,  114834.,   26965.,   32927.,   25468.,\n",
       "         16961.,  113412.,   36502.,   18098.,   13311.,   33312.,\n",
       "         25271.,    6822.,   10815.,   53162.,   31134.,  118880.,\n",
       "         37882.,   24797.,   21395.,    6285.])"
      ]
     },
     "execution_count": 36,
     "metadata": {},
     "output_type": "execute_result"
    }
   ],
   "source": [
    "#convert city to object\n",
    "train.City.unique()"
   ]
  },
  {
   "cell_type": "code",
   "execution_count": 37,
   "metadata": {
    "collapsed": true,
    "scrolled": true
   },
   "outputs": [],
   "source": [
    "train.City.fillna(\"Unknown\",inplace = True)"
   ]
  },
  {
   "cell_type": "markdown",
   "metadata": {},
   "source": [
    "## Raw_ceusus"
   ]
  },
  {
   "cell_type": "code",
   "execution_count": 39,
   "metadata": {},
   "outputs": [
    {
     "data": {
      "text/plain": [
       "0"
      ]
     },
     "execution_count": 39,
     "metadata": {},
     "output_type": "execute_result"
    }
   ],
   "source": [
    "#Census tract and block ID combined - also contains blockgroup assignment by extension. Hard to group\n",
    "#convert to object\n",
    "Counter(train.Raw_census)\n",
    "train.Raw_census.isnull().sum() #no missing value. "
   ]
  },
  {
   "cell_type": "code",
   "execution_count": 40,
   "metadata": {
    "collapsed": true,
    "scrolled": true
   },
   "outputs": [],
   "source": [
    "train.Raw_census = train.Raw_census.astype(\"object\")"
   ]
  },
  {
   "cell_type": "markdown",
   "metadata": {},
   "source": [
    "## Zone_desc"
   ]
  },
  {
   "cell_type": "code",
   "execution_count": 41,
   "metadata": {},
   "outputs": [
    {
     "data": {
      "text/plain": [
       "array(['LARS', nan, 'PSR6', ..., 'SHCG', 'COR2YY', 'LNR2RPD-R3'], dtype=object)"
      ]
     },
     "execution_count": 41,
     "metadata": {},
     "output_type": "execute_result"
    }
   ],
   "source": [
    "train.Zone_desc.unique()"
   ]
  },
  {
   "cell_type": "code",
   "execution_count": 42,
   "metadata": {},
   "outputs": [
    {
     "data": {
      "text/plain": [
       "31962"
      ]
     },
     "execution_count": 42,
     "metadata": {},
     "output_type": "execute_result"
    }
   ],
   "source": [
    "train.Zone_desc.isnull().sum()"
   ]
  },
  {
   "cell_type": "code",
   "execution_count": 43,
   "metadata": {
    "collapsed": true
   },
   "outputs": [],
   "source": [
    "train.Zone_desc.fillna(\"Unknown\", inplace = True)"
   ]
  },
  {
   "cell_type": "markdown",
   "metadata": {},
   "source": [
    "## Land_Type"
   ]
  },
  {
   "cell_type": "code",
   "execution_count": 44,
   "metadata": {},
   "outputs": [
    {
     "data": {
      "text/plain": [
       "array([ 261.,  266.,  265.,  246.,  263.,  269.,  248.,  247.,  267.,\n",
       "        275.,  260.,   31.,  264.,   47.])"
      ]
     },
     "execution_count": 44,
     "metadata": {},
     "output_type": "execute_result"
    }
   ],
   "source": [
    "#convert Land_Type to object\n",
    "train.Land_Type.unique()"
   ]
  },
  {
   "cell_type": "code",
   "execution_count": 45,
   "metadata": {
    "collapsed": true
   },
   "outputs": [],
   "source": [
    "train.Land_Type = train.Land_Type.astype(\"object\")"
   ]
  },
  {
   "cell_type": "markdown",
   "metadata": {},
   "source": [
    "## Spa_Tub"
   ]
  },
  {
   "cell_type": "code",
   "execution_count": 47,
   "metadata": {},
   "outputs": [
    {
     "data": {
      "text/plain": [
       "array([ nan,   1.])"
      ]
     },
     "execution_count": 47,
     "metadata": {},
     "output_type": "execute_result"
    }
   ],
   "source": [
    "#0 or 1 for F and T\n",
    "train.Spa_Tub.unique()"
   ]
  },
  {
   "cell_type": "code",
   "execution_count": 48,
   "metadata": {
    "collapsed": true
   },
   "outputs": [],
   "source": [
    "train.Spa_Tub.fillna(0, inplace = True)"
   ]
  },
  {
   "cell_type": "markdown",
   "metadata": {},
   "source": [
    "## Pool_with_Spa_Tub"
   ]
  },
  {
   "cell_type": "code",
   "execution_count": 49,
   "metadata": {},
   "outputs": [
    {
     "data": {
      "text/plain": [
       "array([ nan,   1.])"
      ]
     },
     "execution_count": 49,
     "metadata": {},
     "output_type": "execute_result"
    }
   ],
   "source": [
    "train.Pool_with_Spa_Tub.unique()"
   ]
  },
  {
   "cell_type": "code",
   "execution_count": 50,
   "metadata": {
    "collapsed": true
   },
   "outputs": [],
   "source": [
    "train.Pool_with_Spa_Tub.fillna(0, inplace = True)"
   ]
  },
  {
   "cell_type": "markdown",
   "metadata": {},
   "source": [
    "## Pool_wo_Spa_Tub"
   ]
  },
  {
   "cell_type": "code",
   "execution_count": 51,
   "metadata": {},
   "outputs": [
    {
     "data": {
      "text/plain": [
       "array([ nan,   1.])"
      ]
     },
     "execution_count": 51,
     "metadata": {},
     "output_type": "execute_result"
    }
   ],
   "source": [
    "train.Pool_wo_Spa_Tub.unique()"
   ]
  },
  {
   "cell_type": "code",
   "execution_count": 52,
   "metadata": {
    "collapsed": true
   },
   "outputs": [],
   "source": [
    "train.Pool_wo_Spa_Tub.fillna(0, inplace = True)"
   ]
  },
  {
   "cell_type": "markdown",
   "metadata": {},
   "source": [
    "## Land_Code"
   ]
  },
  {
   "cell_type": "code",
   "execution_count": 53,
   "metadata": {},
   "outputs": [
    {
     "data": {
      "text/plain": [
       "array(['0100', '1', '010C', '122', '1129', '34', '1128', '010E', '0104',\n",
       "       '0101', '0200', '0700', '1111', '01DC', '010D', '1110', '0400',\n",
       "       '012C', '010V', '1116', '01HC', '010G', '0300', '010F', '1117',\n",
       "       '0103', '38', '1210', '0111', '010M', '96', '135', '0108', '1014',\n",
       "       '1112', '0201', '0109', '1310', '010H', '1410', '1222', '1321',\n",
       "       '1720', '1011', '1432', '0401', '0102', '012D', '73', '105', '0110',\n",
       "       '100V', '0130', '8800', '0303', '0210', '1012', '1333', '0114',\n",
       "       '01DD', '020G', '040A', '012E', '020M', '040V', '070D', '1200',\n",
       "       '030G', '1722', '6050', '1421', '010', nan, '200', '0', '1420',\n",
       "       '0131', '0301'], dtype=object)"
      ]
     },
     "execution_count": 53,
     "metadata": {},
     "output_type": "execute_result"
    }
   ],
   "source": [
    "train.Land_Code.unique()"
   ]
  },
  {
   "cell_type": "code",
   "execution_count": 54,
   "metadata": {
    "collapsed": true
   },
   "outputs": [],
   "source": [
    "train.Land_Code.fillna(\"Unknown\", inplace = True)"
   ]
  },
  {
   "cell_type": "markdown",
   "metadata": {},
   "source": [
    "## Heat_Type"
   ]
  },
  {
   "cell_type": "code",
   "execution_count": 55,
   "metadata": {},
   "outputs": [
    {
     "data": {
      "text/plain": [
       "array([  2.,  nan,   7.,   6.,  24.,  13.,  20.,  18.,  11.,   1.,  14.,\n",
       "        12.,  10.])"
      ]
     },
     "execution_count": 55,
     "metadata": {},
     "output_type": "execute_result"
    }
   ],
   "source": [
    "#heat type instead of number. so change to object feature\n",
    "train.Heat_Type.unique()"
   ]
  },
  {
   "cell_type": "code",
   "execution_count": 56,
   "metadata": {
    "collapsed": true
   },
   "outputs": [],
   "source": [
    "train.Heat_Type.fillna(\"Unknown\",inplace = True)"
   ]
  },
  {
   "cell_type": "markdown",
   "metadata": {},
   "source": [
    "## AC_Type"
   ]
  },
  {
   "cell_type": "code",
   "execution_count": 57,
   "metadata": {},
   "outputs": [
    {
     "data": {
      "text/plain": [
       "array([  1.,  nan,   5.,  13.,  11.,   9.,   3.])"
      ]
     },
     "execution_count": 57,
     "metadata": {},
     "output_type": "execute_result"
    }
   ],
   "source": [
    "train.AC_Type.unique()"
   ]
  },
  {
   "cell_type": "code",
   "execution_count": 58,
   "metadata": {
    "collapsed": true
   },
   "outputs": [],
   "source": [
    "train.AC_Type.fillna(\"Unknown\", inplace = True)"
   ]
  },
  {
   "cell_type": "markdown",
   "metadata": {},
   "source": [
    "## Arch_Type"
   ]
  },
  {
   "cell_type": "code",
   "execution_count": 59,
   "metadata": {},
   "outputs": [
    {
     "data": {
      "text/plain": [
       "array([ nan,   7.,   8.,   2.,  10.,   3.,  21.])"
      ]
     },
     "execution_count": 59,
     "metadata": {},
     "output_type": "execute_result"
    }
   ],
   "source": [
    "train.Arch_Type.unique()"
   ]
  },
  {
   "cell_type": "code",
   "execution_count": 60,
   "metadata": {
    "collapsed": true
   },
   "outputs": [],
   "source": [
    "train.Arch_Type.fillna(\"Unknown\", inplace = True)"
   ]
  },
  {
   "cell_type": "markdown",
   "metadata": {},
   "source": [
    "## Basement_Area"
   ]
  },
  {
   "cell_type": "code",
   "execution_count": 61,
   "metadata": {},
   "outputs": [
    {
     "data": {
      "text/plain": [
       "array([   nan,   814.,   330.,   168.,   671.,  1555.,  1528.,   771.,\n",
       "         700.,   831.,  1048.,  1312.,   690.,   564.,   198.,   676.,\n",
       "         184.,   540.,   260.,   557.,   312.,   913.,  1350.,   802.,\n",
       "         162.,   616.,  1551.,   485.,   238.,   493.,   760.,   515.,\n",
       "         196.,   585.,   234.,   510.,   579.,   100.,   608.,  1210.])"
      ]
     },
     "execution_count": 61,
     "metadata": {},
     "output_type": "execute_result"
    }
   ],
   "source": [
    "#replace nan with float 0, assume it does  not have basement\n",
    "train.Basement_Area.unique()"
   ]
  },
  {
   "cell_type": "code",
   "execution_count": 62,
   "metadata": {
    "collapsed": true
   },
   "outputs": [],
   "source": [
    "train.Basement_Area.fillna(0, inplace = True)"
   ]
  },
  {
   "cell_type": "markdown",
   "metadata": {},
   "source": [
    "## Frame_Type"
   ]
  },
  {
   "cell_type": "code",
   "execution_count": 63,
   "metadata": {},
   "outputs": [
    {
     "data": {
      "text/plain": [
       "array([ nan,   4.])"
      ]
     },
     "execution_count": 63,
     "metadata": {},
     "output_type": "execute_result"
    }
   ],
   "source": [
    "train.Frame_Type.unique()"
   ]
  },
  {
   "cell_type": "code",
   "execution_count": 64,
   "metadata": {
    "collapsed": true
   },
   "outputs": [],
   "source": [
    "train.Frame_Type.fillna(\"Unknown\", inplace = True)"
   ]
  },
  {
   "cell_type": "markdown",
   "metadata": {},
   "source": [
    "## Quality_Level"
   ]
  },
  {
   "cell_type": "code",
   "execution_count": 65,
   "metadata": {},
   "outputs": [
    {
     "data": {
      "text/plain": [
       "array([  4.,  nan,   1.,   7.,  12.,  10.,   8.,   6.,  11.])"
      ]
     },
     "execution_count": 65,
     "metadata": {},
     "output_type": "execute_result"
    }
   ],
   "source": [
    "train.Quality_Level.unique() \n",
    "#this needs to be a numerical feature, leave nan as it is"
   ]
  },
  {
   "cell_type": "code",
   "execution_count": 66,
   "metadata": {
    "collapsed": true
   },
   "outputs": [],
   "source": [
    "train.Quality_Level.fillna(-1, inplace = True)"
   ]
  },
  {
   "cell_type": "code",
   "execution_count": 67,
   "metadata": {
    "collapsed": true
   },
   "outputs": [],
   "source": [
    "train[\"Quality_Level_KU\"] = [0 if x == -1 else 1 for x in train.Quality_Level]"
   ]
  },
  {
   "cell_type": "markdown",
   "metadata": {},
   "source": [
    "## Bed_with_bath_Count"
   ]
  },
  {
   "cell_type": "code",
   "execution_count": 68,
   "metadata": {
    "scrolled": true
   },
   "outputs": [
    {
     "data": {
      "text/plain": [
       "array([  2. ,   3.5,   3. ,   2.5,   4. ,   1. ,   5. ,   5.5,   1.5,\n",
       "         8. ,   nan,   4.5,   9. ,   7. ,   6. ,  10. ,   6.5,   7.5,\n",
       "        12. ,  11. ,  20. ,   8.5,  15. ])"
      ]
     },
     "execution_count": 68,
     "metadata": {},
     "output_type": "execute_result"
    }
   ],
   "source": [
    "train.Bed_with_bath_Count.unique()\n",
    "#leave nan as it is"
   ]
  },
  {
   "cell_type": "code",
   "execution_count": 69,
   "metadata": {
    "collapsed": true
   },
   "outputs": [],
   "source": [
    "train.Bed_with_bath_Count.fillna(0, inplace = True)"
   ]
  },
  {
   "cell_type": "markdown",
   "metadata": {},
   "source": [
    "## Deck_Type"
   ]
  },
  {
   "cell_type": "code",
   "execution_count": 70,
   "metadata": {},
   "outputs": [
    {
     "data": {
      "text/plain": [
       "array([ nan,  66.])"
      ]
     },
     "execution_count": 70,
     "metadata": {},
     "output_type": "execute_result"
    }
   ],
   "source": [
    "train.Deck_Type.unique()"
   ]
  },
  {
   "cell_type": "code",
   "execution_count": 71,
   "metadata": {
    "collapsed": true
   },
   "outputs": [],
   "source": [
    "train.Deck_Type.fillna(\"Unknown\",inplace = True)"
   ]
  },
  {
   "cell_type": "markdown",
   "metadata": {},
   "source": [
    "## First_calculated_Area"
   ]
  },
  {
   "cell_type": "code",
   "execution_count": 72,
   "metadata": {},
   "outputs": [
    {
     "data": {
      "text/plain": [
       "array([   nan,   853.,   981., ...,   819.,  2288.,  1774.])"
      ]
     },
     "execution_count": 72,
     "metadata": {},
     "output_type": "execute_result"
    }
   ],
   "source": [
    "#TWo columns are the same, drop one\n",
    "train.First_calculated_Area.unique()"
   ]
  },
  {
   "cell_type": "code",
   "execution_count": 73,
   "metadata": {},
   "outputs": [
    {
     "data": {
      "text/plain": [
       "array([   nan,   853.,   981., ...,   819.,  2288.,  1774.])"
      ]
     },
     "execution_count": 73,
     "metadata": {},
     "output_type": "execute_result"
    }
   ],
   "source": [
    "train.First_Area.unique()"
   ]
  },
  {
   "cell_type": "code",
   "execution_count": 74,
   "metadata": {
    "collapsed": true
   },
   "outputs": [],
   "source": [
    "train = train.drop(\"First_calculated_Area\", axis = 1, errors = False)"
   ]
  },
  {
   "cell_type": "code",
   "execution_count": 75,
   "metadata": {
    "collapsed": true
   },
   "outputs": [],
   "source": [
    "train = train.drop(\"First_Area\", axis = 1, errors = False)"
   ]
  },
  {
   "cell_type": "markdown",
   "metadata": {},
   "source": [
    "## Perimeter_living_Area"
   ]
  },
  {
   "cell_type": "code",
   "execution_count": 76,
   "metadata": {},
   "outputs": [
    {
     "data": {
      "text/plain": [
       "array([   nan,  1392.,  1440.,  1536.,  1344.,  1566.,  1464.,  1152.,\n",
       "        1584.,  1248.,  1416.,  1056.])"
      ]
     },
     "execution_count": 76,
     "metadata": {},
     "output_type": "execute_result"
    }
   ],
   "source": [
    "train.Perimeter_living_Area.unique()"
   ]
  },
  {
   "cell_type": "code",
   "execution_count": 77,
   "metadata": {},
   "outputs": [
    {
     "data": {
      "text/plain": [
       "90242"
      ]
     },
     "execution_count": 77,
     "metadata": {},
     "output_type": "execute_result"
    }
   ],
   "source": [
    "train.Perimeter_living_Area.isnull().sum()"
   ]
  },
  {
   "cell_type": "code",
   "execution_count": 78,
   "metadata": {
    "collapsed": true
   },
   "outputs": [],
   "source": [
    "train = train.drop(\"Perimeter_living_Area\", axis = 1, errors = False)"
   ]
  },
  {
   "cell_type": "markdown",
   "metadata": {},
   "source": [
    "## FIPS"
   ]
  },
  {
   "cell_type": "code",
   "execution_count": 79,
   "metadata": {},
   "outputs": [
    {
     "data": {
      "text/plain": [
       "array([ 6037.,  6059.,  6111.])"
      ]
     },
     "execution_count": 79,
     "metadata": {},
     "output_type": "execute_result"
    }
   ],
   "source": [
    "train.FIPS.unique()"
   ]
  },
  {
   "cell_type": "code",
   "execution_count": 80,
   "metadata": {
    "collapsed": true
   },
   "outputs": [],
   "source": [
    "#convert FIPS to object, since it only contains 3 kinds of codes federal use\n",
    "train.FIPS = train.FIPS.astype('object')"
   ]
  },
  {
   "cell_type": "markdown",
   "metadata": {},
   "source": [
    "## FirePlace_Count"
   ]
  },
  {
   "cell_type": "code",
   "execution_count": 81,
   "metadata": {},
   "outputs": [
    {
     "data": {
      "text/plain": [
       "array([ nan,   1.,   2.,   3.,   4.,   5.])"
      ]
     },
     "execution_count": 81,
     "metadata": {},
     "output_type": "execute_result"
    }
   ],
   "source": [
    "train.FirePlace_Count.unique()"
   ]
  },
  {
   "cell_type": "code",
   "execution_count": 82,
   "metadata": {
    "collapsed": true
   },
   "outputs": [],
   "source": [
    "#fill na with 0\n",
    "train.FirePlace_Count.fillna(0, inplace = True)"
   ]
  },
  {
   "cell_type": "markdown",
   "metadata": {},
   "source": [
    "## Bath_full_Count"
   ]
  },
  {
   "cell_type": "code",
   "execution_count": 83,
   "metadata": {},
   "outputs": [
    {
     "data": {
      "text/plain": [
       "array([  2.,   3.,   4.,   1.,   5.,   8.,  nan,   9.,   7.,   6.,  10.,\n",
       "        12.,  11.,  20.,  15.])"
      ]
     },
     "execution_count": 83,
     "metadata": {},
     "output_type": "execute_result"
    }
   ],
   "source": [
    "train.Bath_full_Count.unique()"
   ]
  },
  {
   "cell_type": "code",
   "execution_count": 84,
   "metadata": {
    "collapsed": true
   },
   "outputs": [],
   "source": [
    "train.Bath_full_Count.fillna(0, inplace = True)"
   ]
  },
  {
   "cell_type": "markdown",
   "metadata": {},
   "source": [
    "## Garage_Count"
   ]
  },
  {
   "cell_type": "code",
   "execution_count": 85,
   "metadata": {},
   "outputs": [
    {
     "data": {
      "text/plain": [
       "array([ nan,   2.,   1.,   3.,   0.,   4.,   6.,   8.,   5.,   7.,  11.,\n",
       "        10.,  24.,   9.,  13.,  14.])"
      ]
     },
     "execution_count": 85,
     "metadata": {},
     "output_type": "execute_result"
    }
   ],
   "source": [
    "train.Garage_Count.unique()"
   ]
  },
  {
   "cell_type": "code",
   "execution_count": 86,
   "metadata": {
    "collapsed": true
   },
   "outputs": [],
   "source": [
    "train.Garage_Count.fillna(0, inplace = True)"
   ]
  },
  {
   "cell_type": "markdown",
   "metadata": {},
   "source": [
    "## Garage_Area"
   ]
  },
  {
   "cell_type": "code",
   "execution_count": 87,
   "metadata": {},
   "outputs": [
    {
     "data": {
      "text/plain": [
       "array([   nan,   468.,   598.,     0.,   400.,   471.,   462.,   437.,\n",
       "         441.,   401.,   775.,   380.,   440.,   482.,   595.,   753.,\n",
       "         350.,   360.,   300.,   546.,   453.,   600.,   339.,   630.,\n",
       "         683.,   438.,   420.,   495.,   216.,   483.,   454.,   436.,\n",
       "         571.,   450.,   548.,   651.,   385.,   636.,   481.,  1025.,\n",
       "         460.,   609.,   452.,   761.,   451.,   585.,   666.,  1048.,\n",
       "         264.,   988.,   926.,   827.,   690.,   648.,   461.,   413.,\n",
       "         500.,   410.,   409.,   480.,   470.,   672.,   687.,   494.,\n",
       "         619.,   608.,   435.,   180.,   620.,   444.,   457.,   455.,\n",
       "         399.,   498.,   472.,   242.,   474.,   662.,   370.,   518.,\n",
       "         458.,   708.,   345.,   824.,   484.,   746.,   442.,   539.,\n",
       "         448.,   615.,   456.,   430.,   504.,   617.,   358.,   580.,\n",
       "         449.,   445.,   596.,   660.,   638.,   625.,   464.,   336.,\n",
       "         426.,   234.,   473.,   491.,   631.,   499.,   670.,   384.,\n",
       "         700.,  1000.,   361.,   510.,   447.,   469.,   872.,   421.,\n",
       "         613.,   390.,   635.,   640.,   493.,   560.,   466.,   419.,\n",
       "         415.,   422.,   588.,   396.,   521.,   733.,   231.,   340.,\n",
       "         610.,   402.,   575.,   492.,   519.,   576.,   621.,   379.,\n",
       "         689.,   525.,   520.,   424.,   834.,   506.,   280.,   627.,\n",
       "         532.,   423.,   501.,   601.,  1674.,   446.,   728.,   629.,\n",
       "         606.,   351.,   347.,   418.,   624.,   516.,   433.,   594.,\n",
       "         443.,   898.,   367.,   522.,   407.,   704.,   378.,   528.,\n",
       "         995.,   692.,   570.,   878.,   551.,   465.,   720.,   602.,\n",
       "         730.,   656.,   644.,   578.,   252.,  1141.,   628.,   463.,\n",
       "         664.,   655.,   637.,   220.,   200.,   427.,  2243.,   160.,\n",
       "         432.,   240.,   591.,   694.,   646.,   428.,   204.,   297.,\n",
       "         823.,   818.,   564.,  1290.,   540.,   431.,   496.,   642.,\n",
       "         386.,   342.,   373.,   228.,   467.,   616.,   425.,   476.,\n",
       "         260.,   667.,   682.,   611.,   590.,   577.,   622.,   374.,\n",
       "         686.,   218.,   429.,   647.,   558.,   515.,   641.,   288.,\n",
       "         508.,   557.,   388.,   752.,   256.,   489.,   531.,   574.,\n",
       "         529.,   707.,   782.,   765.,   750.,   661.,   757.,   416.,\n",
       "        1082.,   748.,   408.,   768.,   572.,   434.,   586.,   705.,\n",
       "         330.,   562.,   735.,   949.,   844.,   618.,  1529.,   490.,\n",
       "         322.,   643.,   696.,   222.,   688.,   584.,   477.,   565.,\n",
       "         389.,   459.,   307.,   404.,   568.,   475.,   604.,   706.,\n",
       "         393.,   605.,   547.,   417.,   846.,   485.,   723.,   488.,\n",
       "         150.,   559.,   632.,   486.,   854.,   273.,  2010.,   841.,\n",
       "         439.,   771.,   639.,   534.,  3362.,   785.,  3109.,   587.,\n",
       "         685.,   607.,   503.,   398.,   698.,   713.,   902.,   381.,\n",
       "         552.,   541.,   230.,   566.,  1056.,  1350.,   787.,   603.,\n",
       "        1260.,   850.,   848.,   324.,   633.,   392.,   780.,   589.,\n",
       "         722.,   767.,   478.,   676.,   663.,   671.,  1022.,  1162.,\n",
       "         567.,   341.,   634.,   614.,   581.,  1170.,  1142.,   650.,\n",
       "         414.,   830.,   312.,   375.,   582.,   299.,   511.,   497.,\n",
       "         702.,   858.,   512.,   550.,   509.,   754.,   579.,   325.,\n",
       "         649.,   653.,   556.,   738.,   592.,   669.,   176.,   856.,\n",
       "         405.,   597.,   900.,   756.,   555.,   544.,   210.,   727.,\n",
       "         411.,   726.,   387.,   329.,   877.,   403.,   517.,   781.,\n",
       "         893.,  1740.,   599.,  1152.,   593.,   626.,   527.,   944.,\n",
       "         192.,   502.,   714.,  1038.,   514.,  1186.,  1019.,   802.,\n",
       "         800.,   960.,   542.,   717.,   725.,   263.,   355.,   791.,\n",
       "         697.,   792.,   654.,   952.,   821.,   903.,   479.,  2091.,\n",
       "         804.,   250.,   612.,   524.,  1083.,   306.,   652.,  7339.,\n",
       "         715.,   563.,  1362.,   352.,   190.,   507.,   261.,   505.,\n",
       "         658.,   561.,   693.,   321.,   724.,   862.,   716.,   538.,\n",
       "        1023.,   678.,   175.,   743.,   397.,  1110.,   736.,  2210.,\n",
       "         301.,   394.,   545.,   247.,   806.,   665.,   815.,   239.,\n",
       "         719.,  1009.,   513.,  1064.,   930.,   695.,  1509.,   826.,\n",
       "         310.,   814.,   224.,  1005.,   537.,  1630.,   677.,   259.,\n",
       "         986.,   739.,   681.,   526.,   772.,   680.,   583.,   383.,\n",
       "        1353.,   868.,   783.,   487.,   797.,   740.,   974.,  1586.,\n",
       "         760.,   369.,   712.,   837.,   732.,   971.,   793.,   412.,\n",
       "         573.,   810.,  1063.,  1313.,   870.,   366.,   623.,   882.,\n",
       "        1113.,   530.,   315.,   289.,   934.,   305.,   246.,   536.,\n",
       "         238.,   968.,   553.,   270.,   795.,   833.,   535.,   290.,\n",
       "         699.,   816.,   320.,   904.,   357.,   762.,   659.,   253.,\n",
       "         645.,  1020.,   533.,   276.,   679.,   684.,   356.,  1280.,\n",
       "         940.,   376.,   549.,   382.,   965.,   758.,  1320.,   304.,\n",
       "         741.,   349.,   406.,   950.,   864.,   936.,   764.,   880.,\n",
       "         333.,   798.,   668.,  1018.,   759.,   982.,   924.,   171.,\n",
       "         675.,   523.,  1011.,   294.,   377.,   308.,   951.,   744.,\n",
       "         975.,   895.,  1568.,   938.,   703.,   198.,   569.,   923.,\n",
       "        1187.,   838.,   657.,   313.,  1050.,   737.,   721.,   674.,\n",
       "         225.,   747.,  1072.,  1311.,   215.,   905.,  1149.,   710.,\n",
       "         168.,  1539.,   812.,   993.,   262.,   554.,  1624.,   365.,\n",
       "         805.,   372.,   766.,  1093.,   825.,   840.,  1045.,  3045.,\n",
       "         947.,   863.,   281.,  1258.,   543.,   298.,  1253.,   266.,\n",
       "         323.,   331.,   734.,   691.,   954.,  1252.,  1062.,  1159.,\n",
       "         763.,   897.,   272.,  1030.,   701.,   162.,   914.,   209.,\n",
       "         962.,  1323.,   673.,   718.,  1216.,  1180.,   851.,   391.,\n",
       "         212.,  1016.,  1229.,  1373.,   779.,  1456.,   808.,   852.,\n",
       "         773.,   784.,   842.,   236.,   835.,   845.,   935.,  1124.,\n",
       "         973.,  2352.,   237.,  1051.,   788.,   989.,   981.,  2535.,\n",
       "        1190.,  2104.,  1008.,   920.,   939.,   790.,   929.,  1070.,\n",
       "        1215.,   338.,   820.,   274.,   875.,   966.,   776.,   745.,\n",
       "        2766.,   969.,  1028.,   873.,   883.,   807.,   869.,  1380.,\n",
       "         832.,   910.,  2206.,   711.,  4048.,   311.,  1002.,   786.,\n",
       "         751.,  1354.,  2685.,   729.,   296.,   983.,   359.,   803.,\n",
       "         874.,   770.,  1234.,   857.,   211.,  1111.,   334.,  1054.,\n",
       "         836.,   913.,   364.,   158.,   999.,   963.,   755.,   778.,\n",
       "        2446.,   829.,  2140.,   861.,  1225.,   258.,   865.,  1284.,\n",
       "        1264.,   777.,  1017.,   925.,   871.,   822.,  4384.,   207.,\n",
       "        1790.,   908.,   992.,  1296.,   928.,  1533.,   769.,  1104.,\n",
       "         395.,  1686.,   794.,  1098.,   731.,   241.,   839.,   346.,\n",
       "         888.,   945.,   269.,  1194.,   286.,  1896.,  1500.,   978.,\n",
       "         959.,  1138.,   892.,  1004.,   126.,  1831.,  2441.,  1932.,\n",
       "         265.,   292.,  1120.,  2777.,   813.,  1035.,  2293.,  1410.,\n",
       "         946.,  1087.,   801.,   876.,   987.,  1046.,  1411.,   894.,\n",
       "        1845.,  1076.,   709.,   847.,  1080.,  1442.,   295.,   213.,\n",
       "         799.,   195.,   942.,  3348.,  1239.,  2011.,   348.,   368.,\n",
       "        1427.,   362.,   919.,  1132.,   976.,  1014.,  1109.,   811.,\n",
       "        1503.,  1223.,  1512.,  1007.,   235.,   284.,  1251.,  1077.,\n",
       "         219.,  1794.,  2003.,   796.,  2700.,  1887.,  1116.,  1001.,\n",
       "        1012.,   958.,  1164.,  1365.,  1202.,   208.,   887.,   906.,\n",
       "        1426.,   879.,  1217.,  2762.,   371.,   742.,   309.,   931.,\n",
       "        1168.,   817.,  1057.,   327.,   194.,   285.,   967.,   201.,\n",
       "        1073.,   917.,  1476.,   189.,  1536.,  1269.,  1300.,  1040.,\n",
       "        1135.,   828.,  1392.,  1447.,   853.,  1247.,  1027.])"
      ]
     },
     "execution_count": 87,
     "metadata": {},
     "output_type": "execute_result"
    }
   ],
   "source": [
    "train.Garage_Area.unique()"
   ]
  },
  {
   "cell_type": "code",
   "execution_count": 88,
   "metadata": {
    "collapsed": true
   },
   "outputs": [],
   "source": [
    "train.Garage_Area.fillna(0, inplace = True)"
   ]
  },
  {
   "cell_type": "markdown",
   "metadata": {},
   "source": [
    "## Tub_Spa_Type"
   ]
  },
  {
   "cell_type": "code",
   "execution_count": 89,
   "metadata": {},
   "outputs": [
    {
     "data": {
      "text/plain": [
       "array([nan, True], dtype=object)"
      ]
     },
     "execution_count": 89,
     "metadata": {},
     "output_type": "execute_result"
    }
   ],
   "source": [
    "train.Tub_Spa_Type.unique()"
   ]
  },
  {
   "cell_type": "code",
   "execution_count": 90,
   "metadata": {
    "collapsed": true
   },
   "outputs": [],
   "source": [
    "train.Tub_Spa_Type.fillna(False, inplace = True)"
   ]
  },
  {
   "cell_type": "markdown",
   "metadata": {},
   "source": [
    "## Base_total_Area"
   ]
  },
  {
   "cell_type": "code",
   "execution_count": 91,
   "metadata": {},
   "outputs": [
    {
     "data": {
      "text/plain": [
       "89854"
      ]
     },
     "execution_count": 91,
     "metadata": {},
     "output_type": "execute_result"
    }
   ],
   "source": [
    "train.Base_total_Area.isnull().sum()"
   ]
  },
  {
   "cell_type": "code",
   "execution_count": 92,
   "metadata": {
    "collapsed": true
   },
   "outputs": [],
   "source": [
    "train.Base_total_Area.fillna(0, inplace = True)"
   ]
  },
  {
   "cell_type": "markdown",
   "metadata": {},
   "source": [
    "## Pool_Area"
   ]
  },
  {
   "cell_type": "code",
   "execution_count": 93,
   "metadata": {},
   "outputs": [
    {
     "data": {
      "text/plain": [
       "89306"
      ]
     },
     "execution_count": 93,
     "metadata": {},
     "output_type": "execute_result"
    }
   ],
   "source": [
    "train.Pool_Area.isnull().sum()"
   ]
  },
  {
   "cell_type": "code",
   "execution_count": 94,
   "metadata": {
    "collapsed": true
   },
   "outputs": [],
   "source": [
    "train.Pool_Area.fillna(0, inplace = True)"
   ]
  },
  {
   "cell_type": "markdown",
   "metadata": {},
   "source": [
    "## Total_Area"
   ]
  },
  {
   "cell_type": "code",
   "execution_count": 95,
   "metadata": {},
   "outputs": [
    {
     "data": {
      "text/plain": [
       "86711"
      ]
     },
     "execution_count": 95,
     "metadata": {},
     "output_type": "execute_result"
    }
   ],
   "source": [
    "train.Total_Area.isnull().sum()"
   ]
  },
  {
   "cell_type": "code",
   "execution_count": 96,
   "metadata": {
    "collapsed": true
   },
   "outputs": [],
   "source": [
    "train.Total_Area.fillna(0, inplace = True)"
   ]
  },
  {
   "cell_type": "markdown",
   "metadata": {},
   "source": [
    "## Pool_Count"
   ]
  },
  {
   "cell_type": "code",
   "execution_count": 97,
   "metadata": {},
   "outputs": [
    {
     "data": {
      "text/plain": [
       "72374"
      ]
     },
     "execution_count": 97,
     "metadata": {},
     "output_type": "execute_result"
    }
   ],
   "source": [
    "train.Pool_Count.isnull().sum()"
   ]
  },
  {
   "cell_type": "code",
   "execution_count": 98,
   "metadata": {},
   "outputs": [
    {
     "data": {
      "text/plain": [
       "array([ nan,   1.])"
      ]
     },
     "execution_count": 98,
     "metadata": {},
     "output_type": "execute_result"
    }
   ],
   "source": [
    "train.Pool_Count.unique()"
   ]
  },
  {
   "cell_type": "code",
   "execution_count": 99,
   "metadata": {
    "collapsed": true
   },
   "outputs": [],
   "source": [
    "train.Pool_Count.fillna(0, inplace = True)"
   ]
  },
  {
   "cell_type": "markdown",
   "metadata": {},
   "source": [
    "## Story_Count"
   ]
  },
  {
   "cell_type": "code",
   "execution_count": 100,
   "metadata": {},
   "outputs": [
    {
     "data": {
      "text/plain": [
       "69705"
      ]
     },
     "execution_count": 100,
     "metadata": {},
     "output_type": "execute_result"
    }
   ],
   "source": [
    "train.Story_Count.isnull().sum()"
   ]
  },
  {
   "cell_type": "code",
   "execution_count": 101,
   "metadata": {},
   "outputs": [
    {
     "data": {
      "text/plain": [
       "array([ nan,   2.,   1.,   3.,   4.])"
      ]
     },
     "execution_count": 101,
     "metadata": {},
     "output_type": "execute_result"
    }
   ],
   "source": [
    "train.Story_Count.unique()"
   ]
  },
  {
   "cell_type": "code",
   "execution_count": 102,
   "metadata": {
    "collapsed": true
   },
   "outputs": [],
   "source": [
    "train.Story_Count.fillna(-1, inplace = True)"
   ]
  },
  {
   "cell_type": "code",
   "execution_count": 103,
   "metadata": {
    "collapsed": true
   },
   "outputs": [],
   "source": [
    "train[\"Story_Count_KU\"] = [0 if x == -1 else 1 for x in train.Story_Count]"
   ]
  },
  {
   "cell_type": "markdown",
   "metadata": {},
   "source": [
    "## Lot_Area"
   ]
  },
  {
   "cell_type": "code",
   "execution_count": 104,
   "metadata": {},
   "outputs": [
    {
     "data": {
      "text/plain": [
       "array([   7528.,    3643.,   11423., ...,   35223.,   50431.,  156910.])"
      ]
     },
     "execution_count": 104,
     "metadata": {},
     "output_type": "execute_result"
    }
   ],
   "source": [
    "train.Lot_Area.unique()"
   ]
  },
  {
   "cell_type": "code",
   "execution_count": 105,
   "metadata": {},
   "outputs": [
    {
     "data": {
      "text/plain": [
       "10150"
      ]
     },
     "execution_count": 105,
     "metadata": {},
     "output_type": "execute_result"
    }
   ],
   "source": [
    "train.Lot_Area.isnull().sum()"
   ]
  },
  {
   "cell_type": "code",
   "execution_count": 106,
   "metadata": {
    "collapsed": true
   },
   "outputs": [],
   "source": [
    "train.Lot_Area.fillna(-1, inplace = True)"
   ]
  },
  {
   "cell_type": "code",
   "execution_count": 107,
   "metadata": {
    "collapsed": true
   },
   "outputs": [],
   "source": [
    "train[\"Lot_Area_KU\"] = [0 if x == -1 else 1 for x in train.Lot_Area]"
   ]
  },
  {
   "cell_type": "markdown",
   "metadata": {},
   "source": [
    "## Finished_living_Area"
   ]
  },
  {
   "cell_type": "code",
   "execution_count": 108,
   "metadata": {},
   "outputs": [
    {
     "data": {
      "text/plain": [
       "array([  1684.,   2263.,   2217., ...,   3758.,  10681.,  10014.])"
      ]
     },
     "execution_count": 108,
     "metadata": {},
     "output_type": "execute_result"
    }
   ],
   "source": [
    "train.Finished_living_Area.unique()"
   ]
  },
  {
   "cell_type": "code",
   "execution_count": 109,
   "metadata": {
    "collapsed": true
   },
   "outputs": [],
   "source": [
    "fm = np.mean(train.Finished_living_Area)"
   ]
  },
  {
   "cell_type": "code",
   "execution_count": 110,
   "metadata": {
    "collapsed": true
   },
   "outputs": [],
   "source": [
    "train.Finished_living_Area.fillna(fm, inplace = True)"
   ]
  },
  {
   "cell_type": "markdown",
   "metadata": {},
   "source": [
    "## Census"
   ]
  },
  {
   "cell_type": "code",
   "execution_count": 111,
   "metadata": {},
   "outputs": [
    {
     "data": {
      "text/plain": [
       "array([  6.03710665e+13,              nan,   6.03746380e+13, ...,\n",
       "         6.03722831e+13,   6.03719900e+13,   6.03757300e+13])"
      ]
     },
     "execution_count": 111,
     "metadata": {},
     "output_type": "execute_result"
    }
   ],
   "source": [
    "train.Census.unique()"
   ]
  },
  {
   "cell_type": "code",
   "execution_count": 112,
   "metadata": {
    "collapsed": true
   },
   "outputs": [],
   "source": [
    "train.Census = train.Census.astype(\"object\")"
   ]
  },
  {
   "cell_type": "code",
   "execution_count": 113,
   "metadata": {
    "collapsed": true
   },
   "outputs": [],
   "source": [
    "train.Census.fillna(\"Unknown\", inplace = True)"
   ]
  },
  {
   "cell_type": "markdown",
   "metadata": {},
   "source": [
    "## Year"
   ]
  },
  {
   "cell_type": "code",
   "execution_count": 114,
   "metadata": {
    "collapsed": true
   },
   "outputs": [],
   "source": [
    "#replace by mean\n",
    "train.Year.fillna(np.mean(train.Year), inplace = True)"
   ]
  },
  {
   "cell_type": "markdown",
   "metadata": {},
   "source": [
    "## Total_living_Area"
   ]
  },
  {
   "cell_type": "code",
   "execution_count": 115,
   "metadata": {
    "collapsed": true
   },
   "outputs": [],
   "source": [
    "train.Total_living_Area.fillna(np.mean(train.Total_living_Area), inplace = True)"
   ]
  },
  {
   "cell_type": "markdown",
   "metadata": {},
   "source": [
    "## Tax_structure_Value"
   ]
  },
  {
   "cell_type": "code",
   "execution_count": 116,
   "metadata": {
    "collapsed": true
   },
   "outputs": [],
   "source": [
    "train.Tax_structure_Value.fillna(np.mean(train.Tax_structure_Value), inplace = True)"
   ]
  },
  {
   "cell_type": "markdown",
   "metadata": {},
   "source": [
    "## Tax_Amount"
   ]
  },
  {
   "cell_type": "code",
   "execution_count": 117,
   "metadata": {
    "collapsed": true
   },
   "outputs": [],
   "source": [
    "train.Tax_Amount.fillna(np.mean(train.Tax_Amount), inplace = True)"
   ]
  },
  {
   "cell_type": "markdown",
   "metadata": {},
   "source": [
    "## Taxable_land_Value"
   ]
  },
  {
   "cell_type": "code",
   "execution_count": 118,
   "metadata": {
    "collapsed": true
   },
   "outputs": [],
   "source": [
    "train.Taxable_land_Value.fillna(np.mean(train.Taxable_land_Value), inplace = True)"
   ]
  },
  {
   "cell_type": "markdown",
   "metadata": {},
   "source": [
    "## Tax_total_Value"
   ]
  },
  {
   "cell_type": "code",
   "execution_count": 119,
   "metadata": {
    "collapsed": true
   },
   "outputs": [],
   "source": [
    "train.Tax_total_Value.fillna(np.mean(train.Tax_total_Value), inplace = True)"
   ]
  },
  {
   "cell_type": "markdown",
   "metadata": {},
   "source": [
    "## Recheck the dtypes and missing values in all the columns"
   ]
  },
  {
   "cell_type": "code",
   "execution_count": 120,
   "metadata": {},
   "outputs": [
    {
     "name": "stdout",
     "output_type": "stream",
     "text": [
      "Index([u'Parcel_ID', u'logerror', u'Basement_Area', u'Bath_Count',\n",
      "       u'Bed_Count', u'Quality_Level', u'Bed_with_bath_Count',\n",
      "       u'Total_living_Area', u'Finished_living_Area', u'Total_Area',\n",
      "       u'Base_total_Area', u'FirePlace_Count', u'Bath_full_Count',\n",
      "       u'Garage_Count', u'Garage_Area', u'Latitude', u'Longitude', u'Lot_Area',\n",
      "       u'Pool_Count', u'Pool_Area', u'Spa_Tub', u'Pool_with_Spa_Tub',\n",
      "       u'Pool_wo_Spa_Tub', u'Room_Count', u'Bath_partial_Count', u'Unit_Count',\n",
      "       u'Patio_yard_Area', u'Storage_yard_Area', u'Year', u'Story_Count',\n",
      "       u'Tax_structure_Value', u'Tax_total_Value', u'Tax_assess_Year',\n",
      "       u'Taxable_land_Value', u'Tax_Amount', u'Tax_delinq_Year',\n",
      "       u'Unit_Count_KU', u'Quality_Level_KU', u'Story_Count_KU',\n",
      "       u'Lot_Area_KU'],\n",
      "      dtype='object')\n",
      "40\n"
     ]
    }
   ],
   "source": [
    "#numerical variable include\n",
    "num_v1 = train.select_dtypes(include = ['float64','int64']).columns\n",
    "print num_v1\n",
    "print len(num_v1)"
   ]
  },
  {
   "cell_type": "code",
   "execution_count": 121,
   "metadata": {},
   "outputs": [
    {
     "name": "stdout",
     "output_type": "stream",
     "text": [
      "Index([u'tran_date', u'AC_Type', u'Arch_Type', u'Frame_Type', u'Deck_Type',\n",
      "       u'FIPS', u'Heat_Type', u'Land_Code', u'Land_Type', u'Zone_desc',\n",
      "       u'Raw_census', u'City', u'County', u'Neighborhood', u'Zipcode',\n",
      "       u'Floor_Type', u'Material_Type', u'Tax_delinq_YN', u'Census'],\n",
      "      dtype='object')\n",
      "19\n"
     ]
    }
   ],
   "source": [
    "obj_v1 = train.select_dtypes(include = ['object']).columns\n",
    "print obj_v1\n",
    "print len(obj_v1)"
   ]
  },
  {
   "cell_type": "code",
   "execution_count": 122,
   "metadata": {
    "collapsed": true,
    "scrolled": true
   },
   "outputs": [],
   "source": [
    "feature_mis = pd.DataFrame(train.isnull().sum().sort_values(),  columns = [\"Nan_Count\"])\n",
    "#ax = feature_mis.plot.barh(figsize = (18,30),fontsize = 20)\n",
    "#ax.set_title(\"The Number of Nan in processed data\", fontsize = 20)\n",
    "#ax.legend(\"Nan_Count\", fontsize = 25)"
   ]
  },
  {
   "cell_type": "code",
   "execution_count": 123,
   "metadata": {
    "scrolled": true
   },
   "outputs": [
    {
     "data": {
      "text/plain": [
       "Parcel_ID               0\n",
       "logerror                0\n",
       "tran_date               0\n",
       "AC_Type                 0\n",
       "Arch_Type               0\n",
       "Basement_Area           0\n",
       "Bath_Count              0\n",
       "Bed_Count               0\n",
       "Frame_Type              0\n",
       "Quality_Level           0\n",
       "Bed_with_bath_Count     0\n",
       "Deck_Type               0\n",
       "Total_living_Area       0\n",
       "Finished_living_Area    0\n",
       "Total_Area              0\n",
       "Base_total_Area         0\n",
       "FIPS                    0\n",
       "FirePlace_Count         0\n",
       "Bath_full_Count         0\n",
       "Garage_Count            0\n",
       "Garage_Area             0\n",
       "Tub_Spa_Type            0\n",
       "Heat_Type               0\n",
       "Latitude                0\n",
       "Longitude               0\n",
       "Lot_Area                0\n",
       "Pool_Count              0\n",
       "Pool_Area               0\n",
       "Spa_Tub                 0\n",
       "Pool_with_Spa_Tub       0\n",
       "                       ..\n",
       "Land_Code               0\n",
       "Land_Type               0\n",
       "Zone_desc               0\n",
       "Raw_census              0\n",
       "City                    0\n",
       "County                  0\n",
       "Neighborhood            0\n",
       "Zipcode                 0\n",
       "Room_Count              0\n",
       "Floor_Type              0\n",
       "Bath_partial_Count      0\n",
       "Material_Type           0\n",
       "Unit_Count              0\n",
       "Patio_yard_Area         0\n",
       "Storage_yard_Area       0\n",
       "Year                    0\n",
       "Story_Count             0\n",
       "Fireplace_YN            0\n",
       "Tax_structure_Value     0\n",
       "Tax_total_Value         0\n",
       "Tax_assess_Year         0\n",
       "Taxable_land_Value      0\n",
       "Tax_Amount              0\n",
       "Tax_delinq_YN           0\n",
       "Tax_delinq_Year         0\n",
       "Census                  0\n",
       "Unit_Count_KU           0\n",
       "Quality_Level_KU        0\n",
       "Story_Count_KU          0\n",
       "Lot_Area_KU             0\n",
       "Name: Nan_Count, Length: 61, dtype: int64"
      ]
     },
     "execution_count": 123,
     "metadata": {},
     "output_type": "execute_result"
    }
   ],
   "source": [
    "feature_mis.Nan_Count.sort_values() #all zeros"
   ]
  },
  {
   "cell_type": "code",
   "execution_count": 124,
   "metadata": {
    "collapsed": true
   },
   "outputs": [],
   "source": [
    "train.to_csv(\"train_V2.csv\")"
   ]
  },
  {
   "cell_type": "code",
   "execution_count": 125,
   "metadata": {},
   "outputs": [
    {
     "data": {
      "text/html": [
       "<div>\n",
       "<style>\n",
       "    .dataframe thead tr:only-child th {\n",
       "        text-align: right;\n",
       "    }\n",
       "\n",
       "    .dataframe thead th {\n",
       "        text-align: left;\n",
       "    }\n",
       "\n",
       "    .dataframe tbody tr th {\n",
       "        vertical-align: top;\n",
       "    }\n",
       "</style>\n",
       "<table border=\"1\" class=\"dataframe\">\n",
       "  <thead>\n",
       "    <tr style=\"text-align: right;\">\n",
       "      <th></th>\n",
       "      <th>Parcel_ID</th>\n",
       "      <th>logerror</th>\n",
       "      <th>tran_date</th>\n",
       "      <th>AC_Type</th>\n",
       "      <th>Arch_Type</th>\n",
       "      <th>Basement_Area</th>\n",
       "      <th>Bath_Count</th>\n",
       "      <th>Bed_Count</th>\n",
       "      <th>Frame_Type</th>\n",
       "      <th>Quality_Level</th>\n",
       "      <th>...</th>\n",
       "      <th>Tax_assess_Year</th>\n",
       "      <th>Taxable_land_Value</th>\n",
       "      <th>Tax_Amount</th>\n",
       "      <th>Tax_delinq_YN</th>\n",
       "      <th>Tax_delinq_Year</th>\n",
       "      <th>Census</th>\n",
       "      <th>Unit_Count_KU</th>\n",
       "      <th>Quality_Level_KU</th>\n",
       "      <th>Story_Count_KU</th>\n",
       "      <th>Lot_Area_KU</th>\n",
       "    </tr>\n",
       "  </thead>\n",
       "  <tbody>\n",
       "    <tr>\n",
       "      <th>0</th>\n",
       "      <td>11016594</td>\n",
       "      <td>0.0276</td>\n",
       "      <td>2016-01-01</td>\n",
       "      <td>1</td>\n",
       "      <td>Unknown</td>\n",
       "      <td>0.0</td>\n",
       "      <td>2.0</td>\n",
       "      <td>3.0</td>\n",
       "      <td>Unknown</td>\n",
       "      <td>4.0</td>\n",
       "      <td>...</td>\n",
       "      <td>2015.0</td>\n",
       "      <td>237416.0</td>\n",
       "      <td>6735.88</td>\n",
       "      <td>N</td>\n",
       "      <td>-10000.0</td>\n",
       "      <td>6.03711e+13</td>\n",
       "      <td>1</td>\n",
       "      <td>1</td>\n",
       "      <td>0</td>\n",
       "      <td>1</td>\n",
       "    </tr>\n",
       "    <tr>\n",
       "      <th>1</th>\n",
       "      <td>14366692</td>\n",
       "      <td>-0.1684</td>\n",
       "      <td>2016-01-01</td>\n",
       "      <td>Unknown</td>\n",
       "      <td>Unknown</td>\n",
       "      <td>0.0</td>\n",
       "      <td>3.5</td>\n",
       "      <td>4.0</td>\n",
       "      <td>Unknown</td>\n",
       "      <td>-1.0</td>\n",
       "      <td>...</td>\n",
       "      <td>2015.0</td>\n",
       "      <td>239071.0</td>\n",
       "      <td>10153.02</td>\n",
       "      <td>N</td>\n",
       "      <td>-10000.0</td>\n",
       "      <td>Unknown</td>\n",
       "      <td>0</td>\n",
       "      <td>0</td>\n",
       "      <td>0</td>\n",
       "      <td>1</td>\n",
       "    </tr>\n",
       "    <tr>\n",
       "      <th>2</th>\n",
       "      <td>12098116</td>\n",
       "      <td>-0.0040</td>\n",
       "      <td>2016-01-01</td>\n",
       "      <td>1</td>\n",
       "      <td>Unknown</td>\n",
       "      <td>0.0</td>\n",
       "      <td>3.0</td>\n",
       "      <td>2.0</td>\n",
       "      <td>Unknown</td>\n",
       "      <td>4.0</td>\n",
       "      <td>...</td>\n",
       "      <td>2015.0</td>\n",
       "      <td>57912.0</td>\n",
       "      <td>11484.48</td>\n",
       "      <td>N</td>\n",
       "      <td>-10000.0</td>\n",
       "      <td>6.03746e+13</td>\n",
       "      <td>1</td>\n",
       "      <td>1</td>\n",
       "      <td>0</td>\n",
       "      <td>1</td>\n",
       "    </tr>\n",
       "    <tr>\n",
       "      <th>3</th>\n",
       "      <td>12643413</td>\n",
       "      <td>0.0218</td>\n",
       "      <td>2016-01-02</td>\n",
       "      <td>1</td>\n",
       "      <td>Unknown</td>\n",
       "      <td>0.0</td>\n",
       "      <td>2.0</td>\n",
       "      <td>2.0</td>\n",
       "      <td>Unknown</td>\n",
       "      <td>4.0</td>\n",
       "      <td>...</td>\n",
       "      <td>2015.0</td>\n",
       "      <td>73362.0</td>\n",
       "      <td>3048.74</td>\n",
       "      <td>N</td>\n",
       "      <td>-10000.0</td>\n",
       "      <td>6.0373e+13</td>\n",
       "      <td>1</td>\n",
       "      <td>1</td>\n",
       "      <td>0</td>\n",
       "      <td>1</td>\n",
       "    </tr>\n",
       "    <tr>\n",
       "      <th>4</th>\n",
       "      <td>14432541</td>\n",
       "      <td>-0.0050</td>\n",
       "      <td>2016-01-02</td>\n",
       "      <td>Unknown</td>\n",
       "      <td>Unknown</td>\n",
       "      <td>0.0</td>\n",
       "      <td>2.5</td>\n",
       "      <td>4.0</td>\n",
       "      <td>Unknown</td>\n",
       "      <td>-1.0</td>\n",
       "      <td>...</td>\n",
       "      <td>2015.0</td>\n",
       "      <td>264977.0</td>\n",
       "      <td>5488.96</td>\n",
       "      <td>N</td>\n",
       "      <td>-10000.0</td>\n",
       "      <td>6.05904e+13</td>\n",
       "      <td>0</td>\n",
       "      <td>0</td>\n",
       "      <td>1</td>\n",
       "      <td>1</td>\n",
       "    </tr>\n",
       "  </tbody>\n",
       "</table>\n",
       "<p>5 rows × 61 columns</p>\n",
       "</div>"
      ],
      "text/plain": [
       "   Parcel_ID  logerror   tran_date  AC_Type Arch_Type  Basement_Area  \\\n",
       "0   11016594    0.0276  2016-01-01        1   Unknown            0.0   \n",
       "1   14366692   -0.1684  2016-01-01  Unknown   Unknown            0.0   \n",
       "2   12098116   -0.0040  2016-01-01        1   Unknown            0.0   \n",
       "3   12643413    0.0218  2016-01-02        1   Unknown            0.0   \n",
       "4   14432541   -0.0050  2016-01-02  Unknown   Unknown            0.0   \n",
       "\n",
       "   Bath_Count  Bed_Count Frame_Type  Quality_Level     ...       \\\n",
       "0         2.0        3.0    Unknown            4.0     ...        \n",
       "1         3.5        4.0    Unknown           -1.0     ...        \n",
       "2         3.0        2.0    Unknown            4.0     ...        \n",
       "3         2.0        2.0    Unknown            4.0     ...        \n",
       "4         2.5        4.0    Unknown           -1.0     ...        \n",
       "\n",
       "   Tax_assess_Year Taxable_land_Value  Tax_Amount  Tax_delinq_YN  \\\n",
       "0           2015.0           237416.0     6735.88              N   \n",
       "1           2015.0           239071.0    10153.02              N   \n",
       "2           2015.0            57912.0    11484.48              N   \n",
       "3           2015.0            73362.0     3048.74              N   \n",
       "4           2015.0           264977.0     5488.96              N   \n",
       "\n",
       "   Tax_delinq_Year       Census Unit_Count_KU  Quality_Level_KU  \\\n",
       "0         -10000.0  6.03711e+13             1                 1   \n",
       "1         -10000.0      Unknown             0                 0   \n",
       "2         -10000.0  6.03746e+13             1                 1   \n",
       "3         -10000.0   6.0373e+13             1                 1   \n",
       "4         -10000.0  6.05904e+13             0                 0   \n",
       "\n",
       "   Story_Count_KU  Lot_Area_KU  \n",
       "0               0            1  \n",
       "1               0            1  \n",
       "2               0            1  \n",
       "3               0            1  \n",
       "4               1            1  \n",
       "\n",
       "[5 rows x 61 columns]"
      ]
     },
     "execution_count": 125,
     "metadata": {},
     "output_type": "execute_result"
    }
   ],
   "source": [
    "train.head()"
   ]
  },
  {
   "cell_type": "code",
   "execution_count": null,
   "metadata": {
    "collapsed": true
   },
   "outputs": [],
   "source": []
  },
  {
   "cell_type": "code",
   "execution_count": null,
   "metadata": {
    "collapsed": true
   },
   "outputs": [],
   "source": []
  },
  {
   "cell_type": "code",
   "execution_count": null,
   "metadata": {
    "collapsed": true
   },
   "outputs": [],
   "source": []
  },
  {
   "cell_type": "code",
   "execution_count": null,
   "metadata": {
    "collapsed": true
   },
   "outputs": [],
   "source": []
  },
  {
   "cell_type": "code",
   "execution_count": null,
   "metadata": {
    "collapsed": true
   },
   "outputs": [],
   "source": []
  }
 ],
 "metadata": {
  "kernelspec": {
   "display_name": "Python 2",
   "language": "python",
   "name": "python2"
  },
  "language_info": {
   "codemirror_mode": {
    "name": "ipython",
    "version": 2
   },
   "file_extension": ".py",
   "mimetype": "text/x-python",
   "name": "python",
   "nbconvert_exporter": "python",
   "pygments_lexer": "ipython2",
   "version": "2.7.13"
  }
 },
 "nbformat": 4,
 "nbformat_minor": 2
}
